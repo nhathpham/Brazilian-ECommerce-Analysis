{
  "nbformat": 4,
  "nbformat_minor": 0,
  "metadata": {
    "colab": {
      "name": "Olist_4.ipynb",
      "provenance": [],
      "collapsed_sections": []
    },
    "kernelspec": {
      "display_name": "Python 3",
      "name": "python3"
    },
    "language_info": {
      "name": "python"
    }
  },
  "cells": [
    {
      "cell_type": "code",
      "metadata": {
        "colab": {
          "base_uri": "https://localhost:8080/"
        },
        "id": "pWBw5sMRM1B9",
        "outputId": "84c829d6-3efc-428d-961d-3f572b29674e"
      },
      "source": [
        "%pip install pymysql\n",
        "\n",
        "import warnings\n",
        "warnings.filterwarnings('ignore')\n",
        "\n",
        "import matplotlib.pyplot as plt\n",
        "import os\n",
        "import pymysql\n",
        "import pandas as pd\n",
        "import numpy as np\n",
        "\n",
        "succeess = False\n",
        "\n",
        "while not succeess:\n",
        "  try:\n",
        "    conn = pymysql.connect(\n",
        "        host='db-aff.cpapv35x7rsh.us-east-2.rds.amazonaws.com',\n",
        "        port=int(3306),\n",
        "        user=\"admin\",\n",
        "        passwd=\"ds5110db\",\n",
        "        db='olist',\n",
        "        charset='utf8mb4')\n",
        "    db = conn.cursor()\n",
        "    succeess = True\n",
        "  except:\n",
        "    print(\"Wrong Password\")\n",
        "\n",
        "print(\"Connection Made\")\n",
        "\n",
        "\n",
        "def add_quotes(s):\n",
        "  return '\"'+str(s)+'\",'\n",
        "\n",
        "def add_quotes_nocomma(s):\n",
        "  return '\"'+str(s)+'\"'"
      ],
      "execution_count": null,
      "outputs": [
        {
          "name": "stdout",
          "output_type": "stream",
          "text": [
            "Collecting pymysql\n",
            "  Downloading PyMySQL-1.0.2-py3-none-any.whl (43 kB)\n",
            "\u001b[?25l\r\u001b[K     |███████▌                        | 10 kB 17.9 MB/s eta 0:00:01\r\u001b[K     |███████████████                 | 20 kB 21.3 MB/s eta 0:00:01\r\u001b[K     |██████████████████████▍         | 30 kB 22.3 MB/s eta 0:00:01\r\u001b[K     |██████████████████████████████  | 40 kB 19.9 MB/s eta 0:00:01\r\u001b[K     |████████████████████████████████| 43 kB 969 kB/s \n",
            "\u001b[?25hInstalling collected packages: pymysql\n",
            "Successfully installed pymysql-1.0.2\n",
            "Connection Made\n"
          ]
        }
      ]
    },
    {
      "cell_type": "code",
      "metadata": {
        "colab": {
          "base_uri": "https://localhost:8080/",
          "height": 297
        },
        "id": "T0Rggl6nNWDC",
        "outputId": "6c68f8c2-4526-4cd2-a2bd-86fd80dc8b60"
      },
      "source": [
        "table_names = pd.read_sql_query(\"select table_name from information_schema.tables where table_type='BASE TABLE' and table_schema='olist'\", conn)\n",
        "table_names"
      ],
      "execution_count": null,
      "outputs": [
        {
          "data": {
            "text/html": [
              "<div>\n",
              "<style scoped>\n",
              "    .dataframe tbody tr th:only-of-type {\n",
              "        vertical-align: middle;\n",
              "    }\n",
              "\n",
              "    .dataframe tbody tr th {\n",
              "        vertical-align: top;\n",
              "    }\n",
              "\n",
              "    .dataframe thead th {\n",
              "        text-align: right;\n",
              "    }\n",
              "</style>\n",
              "<table border=\"1\" class=\"dataframe\">\n",
              "  <thead>\n",
              "    <tr style=\"text-align: right;\">\n",
              "      <th></th>\n",
              "      <th>TABLE_NAME</th>\n",
              "    </tr>\n",
              "  </thead>\n",
              "  <tbody>\n",
              "    <tr>\n",
              "      <th>0</th>\n",
              "      <td>customers</td>\n",
              "    </tr>\n",
              "    <tr>\n",
              "      <th>1</th>\n",
              "      <td>order_details</td>\n",
              "    </tr>\n",
              "    <tr>\n",
              "      <th>2</th>\n",
              "      <td>orders</td>\n",
              "    </tr>\n",
              "    <tr>\n",
              "      <th>3</th>\n",
              "      <td>payments</td>\n",
              "    </tr>\n",
              "    <tr>\n",
              "      <th>4</th>\n",
              "      <td>product_categories</td>\n",
              "    </tr>\n",
              "    <tr>\n",
              "      <th>5</th>\n",
              "      <td>products</td>\n",
              "    </tr>\n",
              "    <tr>\n",
              "      <th>6</th>\n",
              "      <td>reviews</td>\n",
              "    </tr>\n",
              "    <tr>\n",
              "      <th>7</th>\n",
              "      <td>sellers</td>\n",
              "    </tr>\n",
              "  </tbody>\n",
              "</table>\n",
              "</div>"
            ],
            "text/plain": [
              "           TABLE_NAME\n",
              "0           customers\n",
              "1       order_details\n",
              "2              orders\n",
              "3            payments\n",
              "4  product_categories\n",
              "5            products\n",
              "6             reviews\n",
              "7             sellers"
            ]
          },
          "execution_count": 2,
          "metadata": {},
          "output_type": "execute_result"
        }
      ]
    },
    {
      "cell_type": "code",
      "metadata": {
        "id": "7mXJ6P7EQ_-l"
      },
      "source": [
        "# Customers table\n",
        "customers_tbl = pd.read_sql_query(\"select * from olist.customers\", conn)\n",
        "# pd.read_sql_query(\"select count(customer_id) from olist.customers group by customer_id\", conn)\n",
        "# order_details\n",
        "order_details_tbl = pd.read_sql_query(\"select * from olist.order_details\", conn)\n",
        "# order_details_tbl\n",
        "# pd.read_sql_query(\"select * from olist.order_details where order_id in \"\\\n",
        "# \"(select order_id from olist.order_details group by order_id having count(order_id) > 1 order by order_id)\", conn)\n",
        "# pd.read_sql_query(\"select order_id from olist.order_details group by order_id having count(product_id) > 1 order by order_id\", conn)\n",
        "# pd.read_sql_query(\"select * from olist.order_details where order_id='002f98c0f7efd42638ed6100ca699b42'\", conn)\n",
        "# pd.read_sql_query(\"select * from olist.orders\", conn)\n",
        "# pd.read_sql_query(\"select count(distinct customer_id) from olist.orders\", conn)\n",
        "# pd.read_sql_query(\"select count(distinct order_id) from olist.orders\", conn)"
      ],
      "execution_count": null,
      "outputs": []
    },
    {
      "cell_type": "markdown",
      "metadata": {
        "id": "2NwAG0aYrvh1"
      },
      "source": [
        "# Joining Orders and Reviews tables"
      ]
    },
    {
      "cell_type": "code",
      "metadata": {
        "id": "gI7S4uLFsBtc"
      },
      "source": [
        "import time"
      ],
      "execution_count": null,
      "outputs": []
    },
    {
      "cell_type": "code",
      "metadata": {
        "colab": {
          "base_uri": "https://localhost:8080/"
        },
        "id": "xO5zKlpmqkGn",
        "outputId": "edb8f8f7-19eb-46f2-f810-d57c9b2fd63c"
      },
      "source": [
        "reviews_df = pd.read_sql_query(\"select * from olist.reviews\", conn)[['review_id', 'order_id', 'score', 'message']]\n",
        "orders_main_df = pd.read_sql_query(\"select * from olist.orders\", conn).drop(columns=['customer_id', 'order_status'])\n",
        "start = time.process_time()\n",
        "reviews_orders_df = pd.merge(reviews_df, orders_main_df, how='inner', on='order_id')\n",
        "print(\"Time taken for join:- \", time.process_time() - start)"
      ],
      "execution_count": null,
      "outputs": [
        {
          "name": "stdout",
          "output_type": "stream",
          "text": [
            "Time taken for join:-  0.17548631499999878\n"
          ]
        }
      ]
    },
    {
      "cell_type": "code",
      "metadata": {
        "id": "Fqov7AeLy92g"
      },
      "source": [
        ""
      ],
      "execution_count": null,
      "outputs": []
    },
    {
      "cell_type": "markdown",
      "metadata": {
        "id": "BsbgPIBK3GQG"
      },
      "source": [
        "# Part 1\n",
        "### Converting **order_approved_at, order_delivered_carrier_date, order_delivered_customer_date** into date time columns"
      ]
    },
    {
      "cell_type": "code",
      "metadata": {
        "colab": {
          "base_uri": "https://localhost:8080/",
          "height": 326
        },
        "id": "lFnwJdQaq5vo",
        "outputId": "a6dc5911-ce38-4562-deb1-6ba10f321b6b"
      },
      "source": [
        "reviews_orders_df.head()"
      ],
      "execution_count": null,
      "outputs": [
        {
          "data": {
            "text/html": [
              "<div>\n",
              "<style scoped>\n",
              "    .dataframe tbody tr th:only-of-type {\n",
              "        vertical-align: middle;\n",
              "    }\n",
              "\n",
              "    .dataframe tbody tr th {\n",
              "        vertical-align: top;\n",
              "    }\n",
              "\n",
              "    .dataframe thead th {\n",
              "        text-align: right;\n",
              "    }\n",
              "</style>\n",
              "<table border=\"1\" class=\"dataframe\">\n",
              "  <thead>\n",
              "    <tr style=\"text-align: right;\">\n",
              "      <th></th>\n",
              "      <th>review_id</th>\n",
              "      <th>order_id</th>\n",
              "      <th>score</th>\n",
              "      <th>message</th>\n",
              "      <th>order_purchase_timestamp</th>\n",
              "      <th>order_approved_at</th>\n",
              "      <th>order_delivered_carrier_date</th>\n",
              "      <th>order_delivered_customer_date</th>\n",
              "      <th>order_estimated_delivery_date</th>\n",
              "    </tr>\n",
              "  </thead>\n",
              "  <tbody>\n",
              "    <tr>\n",
              "      <th>0</th>\n",
              "      <td>0001239bc1de2e33cb583967c2ca4c67</td>\n",
              "      <td>fc046d7776171871436844218f817d7d</td>\n",
              "      <td>5</td>\n",
              "      <td>nan</td>\n",
              "      <td>2018-02-20 18:07:05</td>\n",
              "      <td>2018-02-20 18:20:44</td>\n",
              "      <td>2018-02-22 00:22:55</td>\n",
              "      <td>2018-03-19 14:34:39</td>\n",
              "      <td>2018-03-19</td>\n",
              "    </tr>\n",
              "    <tr>\n",
              "      <th>1</th>\n",
              "      <td>0001cc6860aeaf5b9017fe4131a52e62</td>\n",
              "      <td>d4665434b01caa9dc3e3e78b3eb3593e</td>\n",
              "      <td>5</td>\n",
              "      <td>nan</td>\n",
              "      <td>2018-06-18 05:22:00</td>\n",
              "      <td>2018-06-18 06:09:34</td>\n",
              "      <td>2018-06-18 13:43:00</td>\n",
              "      <td>2018-06-21 22:48:57</td>\n",
              "      <td>2018-07-13</td>\n",
              "    </tr>\n",
              "    <tr>\n",
              "      <th>2</th>\n",
              "      <td>00020c7512a52e92212f12d3e37513c0</td>\n",
              "      <td>e28abf2eb2f1fbcbdc2dd0cd9a561671</td>\n",
              "      <td>5</td>\n",
              "      <td>A entrega foi super rápida e o pendente é lind...</td>\n",
              "      <td>2018-04-17 21:54:15</td>\n",
              "      <td>2018-04-17 22:12:18</td>\n",
              "      <td>2018-04-18 19:24:41</td>\n",
              "      <td>2018-04-24 18:12:22</td>\n",
              "      <td>2018-05-10</td>\n",
              "    </tr>\n",
              "    <tr>\n",
              "      <th>3</th>\n",
              "      <td>00032b0141443497c898b3093690af51</td>\n",
              "      <td>04fb47576993a3cb0c12d4b25eab6e4e</td>\n",
              "      <td>5</td>\n",
              "      <td>nan</td>\n",
              "      <td>2017-05-25 12:53:25</td>\n",
              "      <td>2017-05-25 13:10:17</td>\n",
              "      <td>2017-05-26 10:13:23</td>\n",
              "      <td>2017-05-29 21:22:04</td>\n",
              "      <td>2017-06-07</td>\n",
              "    </tr>\n",
              "    <tr>\n",
              "      <th>4</th>\n",
              "      <td>00034d88989f9a4c393bdcaec301537f</td>\n",
              "      <td>5f358d797a49fe2f24352f73426215f6</td>\n",
              "      <td>5</td>\n",
              "      <td>nan</td>\n",
              "      <td>2017-08-10 14:01:14</td>\n",
              "      <td>2017-08-10 14:23:36</td>\n",
              "      <td>2017-08-10 20:05:38</td>\n",
              "      <td>2017-08-11 17:45:52</td>\n",
              "      <td>2017-08-23</td>\n",
              "    </tr>\n",
              "  </tbody>\n",
              "</table>\n",
              "</div>"
            ],
            "text/plain": [
              "                          review_id  ... order_estimated_delivery_date\n",
              "0  0001239bc1de2e33cb583967c2ca4c67  ...                    2018-03-19\n",
              "1  0001cc6860aeaf5b9017fe4131a52e62  ...                    2018-07-13\n",
              "2  00020c7512a52e92212f12d3e37513c0  ...                    2018-05-10\n",
              "3  00032b0141443497c898b3093690af51  ...                    2017-06-07\n",
              "4  00034d88989f9a4c393bdcaec301537f  ...                    2017-08-23\n",
              "\n",
              "[5 rows x 9 columns]"
            ]
          },
          "execution_count": 125,
          "metadata": {},
          "output_type": "execute_result"
        }
      ]
    },
    {
      "cell_type": "code",
      "metadata": {
        "id": "i8nfBr5eR3FK"
      },
      "source": [
        ""
      ],
      "execution_count": null,
      "outputs": []
    },
    {
      "cell_type": "markdown",
      "metadata": {
        "id": "EdkbvSVScHVH"
      },
      "source": [
        "## **Data Cleaning and Preprocessing** reviews_orders_df to remove NA values from orders table and converting them to datetime columns.\n",
        "#### NA values exists in form of '0000-00-00 00:00:00'."
      ]
    },
    {
      "cell_type": "code",
      "metadata": {
        "colab": {
          "base_uri": "https://localhost:8080/"
        },
        "id": "_iy6BOU0zrHr",
        "outputId": "d925c9c5-a031-4226-91cc-2f04a7d5fbb7"
      },
      "source": [
        "navalue = reviews_orders_df.iloc[90, :]['order_delivered_customer_date']\n",
        "cols = ['order_approved_at', 'order_delivered_carrier_date', 'order_delivered_customer_date']\n",
        "indices = np.array([True] * reviews_orders_df.shape[0])\n",
        "for col in cols:\n",
        "  ix_here = reviews_orders_df[col].apply(lambda x: False if x == navalue else True)\n",
        "  indices = indices & ix_here\n",
        "\n",
        "final_df = reviews_orders_df[indices]\n",
        "for col in cols:\n",
        "  final_df.loc[:, col] = pd.to_datetime(final_df.loc[:, col])\n",
        "\n",
        "print(\"NA value is :- \", navalue)\n",
        "print(\"Number of data points containing NA values \", reviews_orders_df.shape[0] - final_df.shape[0])"
      ],
      "execution_count": null,
      "outputs": [
        {
          "name": "stdout",
          "output_type": "stream",
          "text": [
            "NA value is :-  0000-00-00 00:00:00\n",
            "Number of data points containing NA values  2880\n"
          ]
        }
      ]
    },
    {
      "cell_type": "code",
      "metadata": {
        "id": "rPncd4_9qmHG"
      },
      "source": [
        ""
      ],
      "execution_count": null,
      "outputs": []
    },
    {
      "cell_type": "markdown",
      "metadata": {
        "id": "i2o-uS8jcdcJ"
      },
      "source": [
        "#### Converting delivered carrier and customer date into 'date' columns."
      ]
    },
    {
      "cell_type": "code",
      "metadata": {
        "id": "aoXf0Sac2vXw"
      },
      "source": [
        "final_df['order_delivered_carrier_date'] = final_df['order_delivered_carrier_date'].apply(lambda x: x.date())\n",
        "final_df['order_delivered_customer_date'] = final_df['order_delivered_customer_date'].apply(lambda x: x.date())"
      ],
      "execution_count": null,
      "outputs": []
    },
    {
      "cell_type": "markdown",
      "metadata": {
        "id": "AoA0LUuUcxFT"
      },
      "source": [
        "## **Feature Engineering** :\n",
        "#### Generating **delivery_delay**, a new feature that says whether the order was delivered before the estimated delivery date or not."
      ]
    },
    {
      "cell_type": "code",
      "metadata": {
        "colab": {
          "base_uri": "https://localhost:8080/",
          "height": 326
        },
        "id": "pNQRlJwqlIbE",
        "outputId": "d74b8a0e-59c9-42ff-9630-cf01df26544c"
      },
      "source": [
        "final_df.head()"
      ],
      "execution_count": null,
      "outputs": [
        {
          "data": {
            "text/html": [
              "<div>\n",
              "<style scoped>\n",
              "    .dataframe tbody tr th:only-of-type {\n",
              "        vertical-align: middle;\n",
              "    }\n",
              "\n",
              "    .dataframe tbody tr th {\n",
              "        vertical-align: top;\n",
              "    }\n",
              "\n",
              "    .dataframe thead th {\n",
              "        text-align: right;\n",
              "    }\n",
              "</style>\n",
              "<table border=\"1\" class=\"dataframe\">\n",
              "  <thead>\n",
              "    <tr style=\"text-align: right;\">\n",
              "      <th></th>\n",
              "      <th>review_id</th>\n",
              "      <th>order_id</th>\n",
              "      <th>score</th>\n",
              "      <th>message</th>\n",
              "      <th>order_purchase_timestamp</th>\n",
              "      <th>order_approved_at</th>\n",
              "      <th>order_delivered_carrier_date</th>\n",
              "      <th>order_delivered_customer_date</th>\n",
              "      <th>order_estimated_delivery_date</th>\n",
              "      <th>delivery_delay</th>\n",
              "      <th>order_purchase_month</th>\n",
              "    </tr>\n",
              "  </thead>\n",
              "  <tbody>\n",
              "    <tr>\n",
              "      <th>0</th>\n",
              "      <td>0001239bc1de2e33cb583967c2ca4c67</td>\n",
              "      <td>fc046d7776171871436844218f817d7d</td>\n",
              "      <td>5</td>\n",
              "      <td>nan</td>\n",
              "      <td>2018-02-20 18:07:05</td>\n",
              "      <td>2018-02-20 18:20:44</td>\n",
              "      <td>2018-02-22</td>\n",
              "      <td>2018-03-19</td>\n",
              "      <td>2018-03-19</td>\n",
              "      <td>False</td>\n",
              "      <td>2</td>\n",
              "    </tr>\n",
              "    <tr>\n",
              "      <th>1</th>\n",
              "      <td>0001cc6860aeaf5b9017fe4131a52e62</td>\n",
              "      <td>d4665434b01caa9dc3e3e78b3eb3593e</td>\n",
              "      <td>5</td>\n",
              "      <td>nan</td>\n",
              "      <td>2018-06-18 05:22:00</td>\n",
              "      <td>2018-06-18 06:09:34</td>\n",
              "      <td>2018-06-18</td>\n",
              "      <td>2018-06-21</td>\n",
              "      <td>2018-07-13</td>\n",
              "      <td>False</td>\n",
              "      <td>6</td>\n",
              "    </tr>\n",
              "    <tr>\n",
              "      <th>2</th>\n",
              "      <td>00020c7512a52e92212f12d3e37513c0</td>\n",
              "      <td>e28abf2eb2f1fbcbdc2dd0cd9a561671</td>\n",
              "      <td>5</td>\n",
              "      <td>A entrega foi super rápida e o pendente é lind...</td>\n",
              "      <td>2018-04-17 21:54:15</td>\n",
              "      <td>2018-04-17 22:12:18</td>\n",
              "      <td>2018-04-18</td>\n",
              "      <td>2018-04-24</td>\n",
              "      <td>2018-05-10</td>\n",
              "      <td>False</td>\n",
              "      <td>4</td>\n",
              "    </tr>\n",
              "    <tr>\n",
              "      <th>3</th>\n",
              "      <td>00032b0141443497c898b3093690af51</td>\n",
              "      <td>04fb47576993a3cb0c12d4b25eab6e4e</td>\n",
              "      <td>5</td>\n",
              "      <td>nan</td>\n",
              "      <td>2017-05-25 12:53:25</td>\n",
              "      <td>2017-05-25 13:10:17</td>\n",
              "      <td>2017-05-26</td>\n",
              "      <td>2017-05-29</td>\n",
              "      <td>2017-06-07</td>\n",
              "      <td>False</td>\n",
              "      <td>5</td>\n",
              "    </tr>\n",
              "    <tr>\n",
              "      <th>4</th>\n",
              "      <td>00034d88989f9a4c393bdcaec301537f</td>\n",
              "      <td>5f358d797a49fe2f24352f73426215f6</td>\n",
              "      <td>5</td>\n",
              "      <td>nan</td>\n",
              "      <td>2017-08-10 14:01:14</td>\n",
              "      <td>2017-08-10 14:23:36</td>\n",
              "      <td>2017-08-10</td>\n",
              "      <td>2017-08-11</td>\n",
              "      <td>2017-08-23</td>\n",
              "      <td>False</td>\n",
              "      <td>8</td>\n",
              "    </tr>\n",
              "  </tbody>\n",
              "</table>\n",
              "</div>"
            ],
            "text/plain": [
              "                          review_id  ... order_purchase_month\n",
              "0  0001239bc1de2e33cb583967c2ca4c67  ...                    2\n",
              "1  0001cc6860aeaf5b9017fe4131a52e62  ...                    6\n",
              "2  00020c7512a52e92212f12d3e37513c0  ...                    4\n",
              "3  00032b0141443497c898b3093690af51  ...                    5\n",
              "4  00034d88989f9a4c393bdcaec301537f  ...                    8\n",
              "\n",
              "[5 rows x 11 columns]"
            ]
          },
          "execution_count": 9,
          "metadata": {},
          "output_type": "execute_result"
        }
      ]
    },
    {
      "cell_type": "code",
      "metadata": {
        "id": "_fWmSgsk7T1l"
      },
      "source": [
        "final_df['delivery_delay'] = final_df['order_delivered_customer_date'] > final_df['order_estimated_delivery_date']\n",
        "final_df['order_purchase_month'] = final_df['order_purchase_timestamp'].apply(lambda x: x.month)\n",
        "target_feature = 'score'\n",
        "final_df['review_sentiment'] = final_df[target_feature].apply(lambda x: 0 if (x < 4) else 1)"
      ],
      "execution_count": null,
      "outputs": []
    },
    {
      "cell_type": "code",
      "metadata": {
        "colab": {
          "base_uri": "https://localhost:8080/",
          "height": 326
        },
        "id": "bKINOPhrCoX6",
        "outputId": "d1c78b52-d235-4d46-b986-e898b5c5eb78"
      },
      "source": [
        "final_df.head()"
      ],
      "execution_count": null,
      "outputs": [
        {
          "data": {
            "text/html": [
              "<div>\n",
              "<style scoped>\n",
              "    .dataframe tbody tr th:only-of-type {\n",
              "        vertical-align: middle;\n",
              "    }\n",
              "\n",
              "    .dataframe tbody tr th {\n",
              "        vertical-align: top;\n",
              "    }\n",
              "\n",
              "    .dataframe thead th {\n",
              "        text-align: right;\n",
              "    }\n",
              "</style>\n",
              "<table border=\"1\" class=\"dataframe\">\n",
              "  <thead>\n",
              "    <tr style=\"text-align: right;\">\n",
              "      <th></th>\n",
              "      <th>review_id</th>\n",
              "      <th>order_id</th>\n",
              "      <th>score</th>\n",
              "      <th>message</th>\n",
              "      <th>order_purchase_timestamp</th>\n",
              "      <th>order_approved_at</th>\n",
              "      <th>order_delivered_carrier_date</th>\n",
              "      <th>order_delivered_customer_date</th>\n",
              "      <th>order_estimated_delivery_date</th>\n",
              "      <th>delivery_delay</th>\n",
              "      <th>order_purchase_month</th>\n",
              "      <th>review_sentiment</th>\n",
              "    </tr>\n",
              "  </thead>\n",
              "  <tbody>\n",
              "    <tr>\n",
              "      <th>0</th>\n",
              "      <td>0001239bc1de2e33cb583967c2ca4c67</td>\n",
              "      <td>fc046d7776171871436844218f817d7d</td>\n",
              "      <td>5</td>\n",
              "      <td>nan</td>\n",
              "      <td>2018-02-20 18:07:05</td>\n",
              "      <td>2018-02-20 18:20:44</td>\n",
              "      <td>2018-02-22</td>\n",
              "      <td>2018-03-19</td>\n",
              "      <td>2018-03-19</td>\n",
              "      <td>False</td>\n",
              "      <td>2</td>\n",
              "      <td>1</td>\n",
              "    </tr>\n",
              "    <tr>\n",
              "      <th>1</th>\n",
              "      <td>0001cc6860aeaf5b9017fe4131a52e62</td>\n",
              "      <td>d4665434b01caa9dc3e3e78b3eb3593e</td>\n",
              "      <td>5</td>\n",
              "      <td>nan</td>\n",
              "      <td>2018-06-18 05:22:00</td>\n",
              "      <td>2018-06-18 06:09:34</td>\n",
              "      <td>2018-06-18</td>\n",
              "      <td>2018-06-21</td>\n",
              "      <td>2018-07-13</td>\n",
              "      <td>False</td>\n",
              "      <td>6</td>\n",
              "      <td>1</td>\n",
              "    </tr>\n",
              "    <tr>\n",
              "      <th>2</th>\n",
              "      <td>00020c7512a52e92212f12d3e37513c0</td>\n",
              "      <td>e28abf2eb2f1fbcbdc2dd0cd9a561671</td>\n",
              "      <td>5</td>\n",
              "      <td>A entrega foi super rápida e o pendente é lind...</td>\n",
              "      <td>2018-04-17 21:54:15</td>\n",
              "      <td>2018-04-17 22:12:18</td>\n",
              "      <td>2018-04-18</td>\n",
              "      <td>2018-04-24</td>\n",
              "      <td>2018-05-10</td>\n",
              "      <td>False</td>\n",
              "      <td>4</td>\n",
              "      <td>1</td>\n",
              "    </tr>\n",
              "    <tr>\n",
              "      <th>3</th>\n",
              "      <td>00032b0141443497c898b3093690af51</td>\n",
              "      <td>04fb47576993a3cb0c12d4b25eab6e4e</td>\n",
              "      <td>5</td>\n",
              "      <td>nan</td>\n",
              "      <td>2017-05-25 12:53:25</td>\n",
              "      <td>2017-05-25 13:10:17</td>\n",
              "      <td>2017-05-26</td>\n",
              "      <td>2017-05-29</td>\n",
              "      <td>2017-06-07</td>\n",
              "      <td>False</td>\n",
              "      <td>5</td>\n",
              "      <td>1</td>\n",
              "    </tr>\n",
              "    <tr>\n",
              "      <th>4</th>\n",
              "      <td>00034d88989f9a4c393bdcaec301537f</td>\n",
              "      <td>5f358d797a49fe2f24352f73426215f6</td>\n",
              "      <td>5</td>\n",
              "      <td>nan</td>\n",
              "      <td>2017-08-10 14:01:14</td>\n",
              "      <td>2017-08-10 14:23:36</td>\n",
              "      <td>2017-08-10</td>\n",
              "      <td>2017-08-11</td>\n",
              "      <td>2017-08-23</td>\n",
              "      <td>False</td>\n",
              "      <td>8</td>\n",
              "      <td>1</td>\n",
              "    </tr>\n",
              "  </tbody>\n",
              "</table>\n",
              "</div>"
            ],
            "text/plain": [
              "                          review_id  ... review_sentiment\n",
              "0  0001239bc1de2e33cb583967c2ca4c67  ...                1\n",
              "1  0001cc6860aeaf5b9017fe4131a52e62  ...                1\n",
              "2  00020c7512a52e92212f12d3e37513c0  ...                1\n",
              "3  00032b0141443497c898b3093690af51  ...                1\n",
              "4  00034d88989f9a4c393bdcaec301537f  ...                1\n",
              "\n",
              "[5 rows x 12 columns]"
            ]
          },
          "execution_count": 13,
          "metadata": {},
          "output_type": "execute_result"
        }
      ]
    },
    {
      "cell_type": "markdown",
      "metadata": {
        "id": "yf8Q4yEMSMZK"
      },
      "source": [
        "## **Data Visualization**"
      ]
    },
    {
      "cell_type": "markdown",
      "metadata": {
        "id": "qHm3zflISY3k"
      },
      "source": [
        "#### Visualizing significance of delivery_delay on review score using a bar plot."
      ]
    },
    {
      "cell_type": "code",
      "metadata": {
        "colab": {
          "base_uri": "https://localhost:8080/",
          "height": 300
        },
        "id": "kPbvq_I3-g7j",
        "outputId": "3b7e0072-b732-49db-9525-2bf744a9bb91"
      },
      "source": [
        "from google.colab import files\n",
        "import matplotlib.pyplot as plt\n",
        "import seaborn as sns\n",
        "sns.countplot(x='score', hue='delivery_delay', data=final_df)\n",
        "plt.xlabel('Order Review Score', fontsize=12)\n",
        "plt.ylabel('Number of Orders', fontsize=12)\n",
        "plt.title('Counts of Review Scores by Delivery Delay Status ', fontsize=16)\n",
        "plt.legend(title=\"Delivery Delay\", fontsize='small', fancybox=True)\n",
        "plt.savefig(\"review_score_by_delivery_delay.png\")"
      ],
      "execution_count": null,
      "outputs": [
        {
          "data": {
            "image/png": "[encoded data removed]",
            "text/plain": [
              "<Figure size 432x288 with 1 Axes>"
            ]
          },
          "metadata": {},
          "output_type": "display_data"
        }
      ]
    },
    {
      "cell_type": "markdown",
      "metadata": {
        "id": "OUH61Taaa_tu"
      },
      "source": [
        "### Obtaining final dataframe by joining order_item, payments with reviews and orders dataframe."
      ]
    },
    {
      "cell_type": "code",
      "metadata": {
        "colab": {
          "base_uri": "https://localhost:8080/"
        },
        "id": "J8d-I9k1mlNm",
        "outputId": "6921033b-051d-4296-f5bf-9fd2eef53c01"
      },
      "source": [
        "final_df.shape"
      ],
      "execution_count": null,
      "outputs": [
        {
          "data": {
            "text/plain": [
              "(96344, 12)"
            ]
          },
          "execution_count": 15,
          "metadata": {},
          "output_type": "execute_result"
        }
      ]
    },
    {
      "cell_type": "code",
      "metadata": {
        "id": "BPUADgwtYFPq"
      },
      "source": [
        "orders_item_df = pd.read_sql_query(\"select * from olist.order_details\", conn).drop(columns=['product_id', 'seller_id', 'qty'])\n",
        "payments_df = pd.read_sql_query(\"select * from olist.payments\", conn)\n",
        "final_df = pd.merge(final_df, orders_item_df, left_on=\"order_id\", right_on=\"order_id\")\n",
        "final_df = pd.merge(final_df, payments_df, left_on=\"order_id\", right_on=\"order_id\")"
      ],
      "execution_count": null,
      "outputs": []
    },
    {
      "cell_type": "code",
      "metadata": {
        "id": "kmwZLCdK5HZl"
      },
      "source": [
        ""
      ],
      "execution_count": null,
      "outputs": []
    },
    {
      "cell_type": "code",
      "metadata": {
        "colab": {
          "base_uri": "https://localhost:8080/",
          "height": 326
        },
        "id": "ZED91U0JfNXd",
        "outputId": "0a1a140a-c526-483b-a608-8ac93b1eebe2"
      },
      "source": [
        "final_df.head()"
      ],
      "execution_count": null,
      "outputs": [
        {
          "data": {
            "text/html": [
              "<div>\n",
              "<style scoped>\n",
              "    .dataframe tbody tr th:only-of-type {\n",
              "        vertical-align: middle;\n",
              "    }\n",
              "\n",
              "    .dataframe tbody tr th {\n",
              "        vertical-align: top;\n",
              "    }\n",
              "\n",
              "    .dataframe thead th {\n",
              "        text-align: right;\n",
              "    }\n",
              "</style>\n",
              "<table border=\"1\" class=\"dataframe\">\n",
              "  <thead>\n",
              "    <tr style=\"text-align: right;\">\n",
              "      <th></th>\n",
              "      <th>review_id</th>\n",
              "      <th>order_id</th>\n",
              "      <th>score</th>\n",
              "      <th>message</th>\n",
              "      <th>order_purchase_timestamp</th>\n",
              "      <th>order_approved_at</th>\n",
              "      <th>order_delivered_carrier_date</th>\n",
              "      <th>order_delivered_customer_date</th>\n",
              "      <th>order_estimated_delivery_date</th>\n",
              "      <th>delivery_delay</th>\n",
              "      <th>order_purchase_month</th>\n",
              "      <th>review_sentiment</th>\n",
              "      <th>shipping_limit_date</th>\n",
              "      <th>price</th>\n",
              "      <th>freight_value</th>\n",
              "      <th>payment_type</th>\n",
              "      <th>payment_installments</th>\n",
              "      <th>payment_total</th>\n",
              "    </tr>\n",
              "  </thead>\n",
              "  <tbody>\n",
              "    <tr>\n",
              "      <th>0</th>\n",
              "      <td>0001239bc1de2e33cb583967c2ca4c67</td>\n",
              "      <td>fc046d7776171871436844218f817d7d</td>\n",
              "      <td>5</td>\n",
              "      <td>nan</td>\n",
              "      <td>2018-02-20 18:07:05</td>\n",
              "      <td>2018-02-20 18:20:44</td>\n",
              "      <td>2018-02-22</td>\n",
              "      <td>2018-03-19</td>\n",
              "      <td>2018-03-19</td>\n",
              "      <td>False</td>\n",
              "      <td>2</td>\n",
              "      <td>1</td>\n",
              "      <td>2018-02-28 18:20:44</td>\n",
              "      <td>145.00</td>\n",
              "      <td>15.76</td>\n",
              "      <td>credit_card</td>\n",
              "      <td>1</td>\n",
              "      <td>160.76</td>\n",
              "    </tr>\n",
              "    <tr>\n",
              "      <th>1</th>\n",
              "      <td>0001cc6860aeaf5b9017fe4131a52e62</td>\n",
              "      <td>d4665434b01caa9dc3e3e78b3eb3593e</td>\n",
              "      <td>5</td>\n",
              "      <td>nan</td>\n",
              "      <td>2018-06-18 05:22:00</td>\n",
              "      <td>2018-06-18 06:09:34</td>\n",
              "      <td>2018-06-18</td>\n",
              "      <td>2018-06-21</td>\n",
              "      <td>2018-07-13</td>\n",
              "      <td>False</td>\n",
              "      <td>6</td>\n",
              "      <td>1</td>\n",
              "      <td>2018-06-22 05:31:36</td>\n",
              "      <td>60.00</td>\n",
              "      <td>19.61</td>\n",
              "      <td>credit_card</td>\n",
              "      <td>1</td>\n",
              "      <td>79.61</td>\n",
              "    </tr>\n",
              "    <tr>\n",
              "      <th>2</th>\n",
              "      <td>00020c7512a52e92212f12d3e37513c0</td>\n",
              "      <td>e28abf2eb2f1fbcbdc2dd0cd9a561671</td>\n",
              "      <td>5</td>\n",
              "      <td>A entrega foi super rápida e o pendente é lind...</td>\n",
              "      <td>2018-04-17 21:54:15</td>\n",
              "      <td>2018-04-17 22:12:18</td>\n",
              "      <td>2018-04-18</td>\n",
              "      <td>2018-04-24</td>\n",
              "      <td>2018-05-10</td>\n",
              "      <td>False</td>\n",
              "      <td>4</td>\n",
              "      <td>1</td>\n",
              "      <td>2018-04-23 22:12:18</td>\n",
              "      <td>150.00</td>\n",
              "      <td>17.96</td>\n",
              "      <td>credit_card</td>\n",
              "      <td>1</td>\n",
              "      <td>167.96</td>\n",
              "    </tr>\n",
              "    <tr>\n",
              "      <th>3</th>\n",
              "      <td>00032b0141443497c898b3093690af51</td>\n",
              "      <td>04fb47576993a3cb0c12d4b25eab6e4e</td>\n",
              "      <td>5</td>\n",
              "      <td>nan</td>\n",
              "      <td>2017-05-25 12:53:25</td>\n",
              "      <td>2017-05-25 13:10:17</td>\n",
              "      <td>2017-05-26</td>\n",
              "      <td>2017-05-29</td>\n",
              "      <td>2017-06-07</td>\n",
              "      <td>False</td>\n",
              "      <td>5</td>\n",
              "      <td>1</td>\n",
              "      <td>2017-05-31 13:10:17</td>\n",
              "      <td>259.90</td>\n",
              "      <td>41.77</td>\n",
              "      <td>credit_card</td>\n",
              "      <td>1</td>\n",
              "      <td>301.67</td>\n",
              "    </tr>\n",
              "    <tr>\n",
              "      <th>4</th>\n",
              "      <td>00034d88989f9a4c393bdcaec301537f</td>\n",
              "      <td>5f358d797a49fe2f24352f73426215f6</td>\n",
              "      <td>5</td>\n",
              "      <td>nan</td>\n",
              "      <td>2017-08-10 14:01:14</td>\n",
              "      <td>2017-08-10 14:23:36</td>\n",
              "      <td>2017-08-10</td>\n",
              "      <td>2017-08-11</td>\n",
              "      <td>2017-08-23</td>\n",
              "      <td>False</td>\n",
              "      <td>8</td>\n",
              "      <td>1</td>\n",
              "      <td>2017-08-16 14:23:36</td>\n",
              "      <td>68.89</td>\n",
              "      <td>8.72</td>\n",
              "      <td>credit_card</td>\n",
              "      <td>1</td>\n",
              "      <td>77.61</td>\n",
              "    </tr>\n",
              "  </tbody>\n",
              "</table>\n",
              "</div>"
            ],
            "text/plain": [
              "                          review_id  ... payment_total\n",
              "0  0001239bc1de2e33cb583967c2ca4c67  ...        160.76\n",
              "1  0001cc6860aeaf5b9017fe4131a52e62  ...         79.61\n",
              "2  00020c7512a52e92212f12d3e37513c0  ...        167.96\n",
              "3  00032b0141443497c898b3093690af51  ...        301.67\n",
              "4  00034d88989f9a4c393bdcaec301537f  ...         77.61\n",
              "\n",
              "[5 rows x 18 columns]"
            ]
          },
          "execution_count": 18,
          "metadata": {},
          "output_type": "execute_result"
        }
      ]
    },
    {
      "cell_type": "markdown",
      "metadata": {
        "id": "Q_LttH-TfS6V"
      },
      "source": [
        "## **Machine Learning**"
      ]
    },
    {
      "cell_type": "code",
      "metadata": {
        "id": "EiNojc2JhCmU"
      },
      "source": [
        "from sklearn.model_selection import train_test_split\n",
        "from sklearn.ensemble import RandomForestClassifier\n",
        "from sklearn import metrics\n",
        "from sklearn.feature_selection import f_regression\n",
        "from sklearn.preprocessing import LabelBinarizer"
      ],
      "execution_count": null,
      "outputs": []
    },
    {
      "cell_type": "markdown",
      "metadata": {
        "id": "axTiaRWQnxPW"
      },
      "source": [
        "### Defining Input and Target features and data."
      ]
    },
    {
      "cell_type": "code",
      "metadata": {
        "colab": {
          "base_uri": "https://localhost:8080/"
        },
        "id": "N7ZleVJjm7G0",
        "outputId": "c7d4d7b9-2bf6-4abd-92fa-2aeb752d2850"
      },
      "source": [
        "final_df.columns.values"
      ],
      "execution_count": null,
      "outputs": [
        {
          "data": {
            "text/plain": [
              "array(['review_id', 'order_id', 'score', 'message',\n",
              "       'order_purchase_timestamp', 'order_approved_at',\n",
              "       'order_delivered_carrier_date', 'order_delivered_customer_date',\n",
              "       'order_estimated_delivery_date', 'delivery_delay',\n",
              "       'order_purchase_month', 'review_sentiment', 'shipping_limit_date',\n",
              "       'price', 'freight_value', 'payment_type', 'payment_installments',\n",
              "       'payment_total'], dtype=object)"
            ]
          },
          "execution_count": 20,
          "metadata": {},
          "output_type": "execute_result"
        }
      ]
    },
    {
      "cell_type": "code",
      "metadata": {
        "colab": {
          "background_save": true
        },
        "id": "wh0NiA7UnQWy",
        "outputId": "b88df881-352e-43e9-c8ad-e4decb38de9d"
      },
      "source": [
        "LabelBinarizer().fit_transform(final_df['delivery_delay'].)"
      ],
      "execution_count": null,
      "outputs": [
        {
          "data": {
            "text/plain": [
              "array([[0, 1, 0, 0],\n",
              "       [0, 1, 0, 0],\n",
              "       [0, 1, 0, 0],\n",
              "       ...,\n",
              "       [0, 1, 0, 0],\n",
              "       [1, 0, 0, 0],\n",
              "       [0, 1, 0, 0]])"
            ]
          },
          "execution_count": null,
          "metadata": {},
          "output_type": "execute_result"
        }
      ]
    },
    {
      "cell_type": "code",
      "metadata": {
        "id": "laZwPjv2YGaK"
      },
      "source": [
        "input_features = ['delivery_delay', 'price', 'freight_value', 'payment_type', 'payment_installments', 'order_purchase_month']\n",
        "target_feature = 'review_sentiment'\n",
        "x = final_df[input_features]\n",
        "x['delivery_delay'] = LabelBinarizer().fit_transform(x['delivery_delay'])\n",
        "x['payment_type'] = LabelBinarizer().fit_transform(x['payment_type'])\n",
        "y = final_df[target_feature].values"
      ],
      "execution_count": null,
      "outputs": []
    },
    {
      "cell_type": "code",
      "metadata": {
        "colab": {
          "base_uri": "https://localhost:8080/",
          "height": 204
        },
        "id": "uSp5hGocgxbR",
        "outputId": "ef1f6525-d5db-414e-a302-b6370d081109"
      },
      "source": [
        "x.head()"
      ],
      "execution_count": null,
      "outputs": [
        {
          "data": {
            "text/html": [
              "<div>\n",
              "<style scoped>\n",
              "    .dataframe tbody tr th:only-of-type {\n",
              "        vertical-align: middle;\n",
              "    }\n",
              "\n",
              "    .dataframe tbody tr th {\n",
              "        vertical-align: top;\n",
              "    }\n",
              "\n",
              "    .dataframe thead th {\n",
              "        text-align: right;\n",
              "    }\n",
              "</style>\n",
              "<table border=\"1\" class=\"dataframe\">\n",
              "  <thead>\n",
              "    <tr style=\"text-align: right;\">\n",
              "      <th></th>\n",
              "      <th>delivery_delay</th>\n",
              "      <th>price</th>\n",
              "      <th>freight_value</th>\n",
              "      <th>payment_type</th>\n",
              "      <th>payment_installments</th>\n",
              "      <th>order_purchase_month</th>\n",
              "    </tr>\n",
              "  </thead>\n",
              "  <tbody>\n",
              "    <tr>\n",
              "      <th>0</th>\n",
              "      <td>0</td>\n",
              "      <td>145.00</td>\n",
              "      <td>15.76</td>\n",
              "      <td>0</td>\n",
              "      <td>1</td>\n",
              "      <td>2</td>\n",
              "    </tr>\n",
              "    <tr>\n",
              "      <th>1</th>\n",
              "      <td>0</td>\n",
              "      <td>60.00</td>\n",
              "      <td>19.61</td>\n",
              "      <td>0</td>\n",
              "      <td>1</td>\n",
              "      <td>6</td>\n",
              "    </tr>\n",
              "    <tr>\n",
              "      <th>2</th>\n",
              "      <td>0</td>\n",
              "      <td>150.00</td>\n",
              "      <td>17.96</td>\n",
              "      <td>0</td>\n",
              "      <td>1</td>\n",
              "      <td>4</td>\n",
              "    </tr>\n",
              "    <tr>\n",
              "      <th>3</th>\n",
              "      <td>0</td>\n",
              "      <td>259.90</td>\n",
              "      <td>41.77</td>\n",
              "      <td>0</td>\n",
              "      <td>1</td>\n",
              "      <td>5</td>\n",
              "    </tr>\n",
              "    <tr>\n",
              "      <th>4</th>\n",
              "      <td>0</td>\n",
              "      <td>68.89</td>\n",
              "      <td>8.72</td>\n",
              "      <td>0</td>\n",
              "      <td>1</td>\n",
              "      <td>8</td>\n",
              "    </tr>\n",
              "  </tbody>\n",
              "</table>\n",
              "</div>"
            ],
            "text/plain": [
              "   delivery_delay   price  ...  payment_installments  order_purchase_month\n",
              "0               0  145.00  ...                     1                     2\n",
              "1               0   60.00  ...                     1                     6\n",
              "2               0  150.00  ...                     1                     4\n",
              "3               0  259.90  ...                     1                     5\n",
              "4               0   68.89  ...                     1                     8\n",
              "\n",
              "[5 rows x 6 columns]"
            ]
          },
          "execution_count": 169,
          "metadata": {},
          "output_type": "execute_result"
        }
      ]
    },
    {
      "cell_type": "markdown",
      "metadata": {
        "id": "zF73zlydn8j8"
      },
      "source": [
        "###### Dividing dataframe into train and test data."
      ]
    },
    {
      "cell_type": "code",
      "metadata": {
        "id": "emVc8rUbfRyj"
      },
      "source": [
        "x_train, x_test, y_train, y_test = train_test_split(x, y, train_size=0.8, random_state=9)"
      ],
      "execution_count": null,
      "outputs": []
    },
    {
      "cell_type": "code",
      "metadata": {
        "id": "1QarciwUo2rS"
      },
      "source": [
        ""
      ],
      "execution_count": null,
      "outputs": []
    },
    {
      "cell_type": "markdown",
      "metadata": {
        "id": "zrBluWnyoDux"
      },
      "source": [
        "### Using a **Random Forest Classifier** to predict sentiment of the reviews."
      ]
    },
    {
      "cell_type": "code",
      "metadata": {
        "id": "fLhSdP_4fkO5"
      },
      "source": [
        "ranfor = RandomForestClassifier().fit(x_train, y_train)"
      ],
      "execution_count": null,
      "outputs": []
    },
    {
      "cell_type": "code",
      "metadata": {
        "id": "fDAUZuS2gAda"
      },
      "source": [
        "features_imp_rf = pd.DataFrame({'feature_name': input_features, 'feature_importance': ranfor.feature_importances_})\n",
        "features_imp_rf = features_imp_df.sort_values(by='feature_importance', ascending=True)"
      ],
      "execution_count": null,
      "outputs": []
    },
    {
      "cell_type": "markdown",
      "metadata": {
        "id": "j4TmSomshZ1W"
      },
      "source": [
        "#### Plotting **Feature Importance** obtained from Random Forest Classifier."
      ]
    },
    {
      "cell_type": "code",
      "metadata": {
        "colab": {
          "base_uri": "https://localhost:8080/",
          "height": 312
        },
        "id": "IjnNDHSwhvkB",
        "outputId": "c45a7191-79cc-4d99-f866-5c5ac79cffd7"
      },
      "source": [
        "plt.barh(y=features_imp_rf['feature_name'], width=features_imp_rf['feature_importance'])\n",
        "plt.xlabel(\"Features Importance\")\n",
        "plt.ylabel(\"Feature Name\")\n",
        "plt.title(\"Features Importance using Random Forest Classifier\")"
      ],
      "execution_count": null,
      "outputs": [
        {
          "data": {
            "text/plain": [
              "Text(0.5, 1.0, 'Features Importance using Random Forest Classifier')"
            ]
          },
          "execution_count": 228,
          "metadata": {},
          "output_type": "execute_result"
        },
        {
          "data": {
            "image/png": "[encoded data removed]",
            "text/plain": [
              "<Figure size 432x288 with 1 Axes>"
            ]
          },
          "metadata": {},
          "output_type": "display_data"
        }
      ]
    },
    {
      "cell_type": "markdown",
      "metadata": {
        "id": "NnNnfeamoh5v"
      },
      "source": [
        "#### **Loss and Accuracy metrics** for Random Forest Classifier"
      ]
    },
    {
      "cell_type": "code",
      "metadata": {
        "id": "p1vW1RovoxdE"
      },
      "source": [
        "train_acc_rf = metrics.accuracy_score(y_train, ranfor.predict(x_train))\n",
        "test_acc_rf = metrics.accuracy_score(y_test, ranfor.predict(x_test))\n",
        "train_ll_rf = metrics.log_loss(y_train, ranfor.predict_proba(x_train))\n",
        "test_ll_rf = metrics.log_loss(y_test, ranfor.predict_proba(x_test))\n",
        "train_f1_rf = metrics.f1_score(y_train, ranfor.predict(x_train))\n",
        "test_f1_rf = metrics.f1_score(y_test, ranfor.predict(x_test))"
      ],
      "execution_count": null,
      "outputs": []
    },
    {
      "cell_type": "code",
      "metadata": {
        "colab": {
          "base_uri": "https://localhost:8080/"
        },
        "id": "vYHnPJTEl8On",
        "outputId": "884ea1fc-4a81-4359-bff9-49a1d4232f28"
      },
      "source": [
        "print(\"Training Log loss using Random Forest Classifier :- \", round(train_ll_rf, 5))\n",
        "print(\"Test Log loss using Random Forest Classifier :- \", round(test_ll_rf, 5))\n",
        "print(\"Train Accuracy using Random Forest Classifier :- \", round(train_acc_rf, 5))\n",
        "print(\"Test Accuracy using Random Forest Classifier :- \", round(test_acc_rf, 5))\n",
        "print(\"Train F1 Score using Random Forest Classifier :- \", round(train_f1_rf, 5))\n",
        "print(\"Test F1 Score using Random Forest Classifier :- \", round(test_f1_rf, 5))"
      ],
      "execution_count": null,
      "outputs": [
        {
          "name": "stdout",
          "output_type": "stream",
          "text": [
            "Training Log loss using Random Forest Classifier :-  0.17283\n",
            "Test Log loss using Random Forest Classifier :-  0.94528\n",
            "Train Accuracy using Random Forest Classifier :-  0.95195\n",
            "Test Accuracy using Random Forest Classifier :-  0.77428\n",
            "Train F1 Score using Random Forest Classifier :-  0.96978\n",
            "Test F1 Score using Random Forest Classifier :-  0.86211\n"
          ]
        }
      ]
    },
    {
      "cell_type": "code",
      "metadata": {
        "id": "loJ1pphlZaYk"
      },
      "source": [
        ""
      ],
      "execution_count": null,
      "outputs": []
    },
    {
      "cell_type": "code",
      "metadata": {
        "id": "qQolNK6Em4wX"
      },
      "source": [
        ""
      ],
      "execution_count": null,
      "outputs": []
    },
    {
      "cell_type": "markdown",
      "metadata": {
        "id": "4g6DCwNEo9pt"
      },
      "source": [
        "## Using **Logistic Regression** to predict sentiment of the reviews."
      ]
    },
    {
      "cell_type": "code",
      "metadata": {
        "id": "46YIHdiJpG-L"
      },
      "source": [
        "from sklearn.linear_model import LogisticRegression"
      ],
      "execution_count": null,
      "outputs": []
    },
    {
      "cell_type": "code",
      "metadata": {
        "id": "yJUmAmMzpYH1"
      },
      "source": [
        "logreg = LogisticRegression().fit(x_train, y_train)"
      ],
      "execution_count": null,
      "outputs": []
    },
    {
      "cell_type": "code",
      "metadata": {
        "id": "p3lMq3mEpkC1"
      },
      "source": [
        "features_imp_lr = pd.DataFrame({'feature_name': input_features, 'feature_importance': logreg.coef_[0]})\n",
        "features_imp_lr = features_imp_df.sort_values(by='feature_importance', ascending=True)"
      ],
      "execution_count": null,
      "outputs": []
    },
    {
      "cell_type": "markdown",
      "metadata": {
        "id": "-sGql86TWOGf"
      },
      "source": [
        "### **Features importance**, Coefficient of Correlation, using Logistic Regression"
      ]
    },
    {
      "cell_type": "code",
      "metadata": {
        "colab": {
          "base_uri": "https://localhost:8080/",
          "height": 312
        },
        "id": "r_JyhluTpjcy",
        "outputId": "324756b3-308c-4f0b-90aa-2f43a550b369"
      },
      "source": [
        "plt.barh(y=features_imp_lr['feature_name'], width=features_imp_lr['feature_importance'])\n",
        "plt.xlabel(\"Features Importance\")\n",
        "plt.ylabel(\"Feature Name\")\n",
        "plt.title(\"Features Importance using Logistic Regression\")"
      ],
      "execution_count": null,
      "outputs": [
        {
          "data": {
            "text/plain": [
              "Text(0.5, 1.0, 'Features Importance using Logistic Regression')"
            ]
          },
          "execution_count": 227,
          "metadata": {},
          "output_type": "execute_result"
        },
        {
          "data": {
            "image/png": "[encoded data removed]",
            "text/plain": [
              "<Figure size 432x288 with 1 Axes>"
            ]
          },
          "metadata": {},
          "output_type": "display_data"
        }
      ]
    },
    {
      "cell_type": "code",
      "metadata": {
        "id": "YoQRfXQbWNFF"
      },
      "source": [
        ""
      ],
      "execution_count": null,
      "outputs": []
    },
    {
      "cell_type": "markdown",
      "metadata": {
        "id": "fBDVLVk0W7Vi"
      },
      "source": [
        "### **Loss and Accuracy** metrics for Logistic Regression."
      ]
    },
    {
      "cell_type": "code",
      "metadata": {
        "id": "-rs5kZQopfrd"
      },
      "source": [
        "train_acc_lr = metrics.accuracy_score(y_train, logreg.predict(x_train))\n",
        "test_acc_lr = metrics.accuracy_score(y_test, logreg.predict(x_test))\n",
        "train_ll_lr = metrics.log_loss(y_train, logreg.predict_proba(x_train))\n",
        "test_ll_lr = metrics.log_loss(y_test, logreg.predict_proba(x_test))\n",
        "train_f1_lr = metrics.f1_score(y_train, logreg.predict(x_train))\n",
        "test_f1_lr = metrics.f1_score(y_test, logreg.predict(x_test))"
      ],
      "execution_count": null,
      "outputs": []
    },
    {
      "cell_type": "code",
      "metadata": {
        "colab": {
          "base_uri": "https://localhost:8080/"
        },
        "id": "PHX-hdKVp8-J",
        "outputId": "3eda993e-1d17-43eb-e816-4f3ed70614ea"
      },
      "source": [
        "print(\"Training Log loss using Random Forest Classifier :- \", round(train_ll_lr, 5))\n",
        "print(\"Test Log loss using Random Forest Classifier :- \", round(test_ll_lr, 5))\n",
        "print(\"Train Accuracy using Random Forest Classifier :- \", round(train_acc_lr, 5))\n",
        "print(\"Test Accuracy using Random Forest Classifier :- \", round(test_acc_lr, 5))\n",
        "print(\"Train F1 Score using Random Forest Classifier :- \", round(train_f1_lr, 5))\n",
        "print(\"Test F1 Score using Random Forest Classifier :- \", round(test_f1_lr, 5))"
      ],
      "execution_count": null,
      "outputs": [
        {
          "name": "stdout",
          "output_type": "stream",
          "text": [
            "Training Log loss using Random Forest Classifier :-  0.4841\n",
            "Test Log loss using Random Forest Classifier :-  0.48313\n",
            "Train Accuracy using Random Forest Classifier :-  0.81032\n",
            "Test Accuracy using Random Forest Classifier :-  0.81092\n",
            "Train F1 Score using Random Forest Classifier :-  0.8894\n",
            "Test F1 Score using Random Forest Classifier :-  0.88972\n"
          ]
        }
      ]
    },
    {
      "cell_type": "code",
      "metadata": {
        "id": "2ZUx1JXmqAi1"
      },
      "source": [
        ""
      ],
      "execution_count": null,
      "outputs": []
    },
    {
      "cell_type": "code",
      "metadata": {
        "id": "ANwro18oZbcY"
      },
      "source": [
        ""
      ],
      "execution_count": null,
      "outputs": []
    },
    {
      "cell_type": "markdown",
      "metadata": {
        "id": "5DDjEXhhZbqh"
      },
      "source": [
        "### Determining feature importance using **p-values**."
      ]
    },
    {
      "cell_type": "code",
      "metadata": {
        "id": "TmrhPtJCZ3pJ"
      },
      "source": [
        "p_values = f_regression(x_train, y_train)[1]\n",
        "p_values_df = pd.DataFrame({'feature_name': input_features, 'p-value': p_values})\n",
        "p_values_df = p_values_df.sort_values(by='p-value', ascending=False)"
      ],
      "execution_count": null,
      "outputs": []
    },
    {
      "cell_type": "code",
      "metadata": {
        "colab": {
          "base_uri": "https://localhost:8080/",
          "height": 235
        },
        "id": "UfK0wNhEadXw",
        "outputId": "464c06db-7b75-4fa4-a810-9b10b8b974d2"
      },
      "source": [
        "p_values_df"
      ],
      "execution_count": null,
      "outputs": [
        {
          "data": {
            "text/html": [
              "<div>\n",
              "<style scoped>\n",
              "    .dataframe tbody tr th:only-of-type {\n",
              "        vertical-align: middle;\n",
              "    }\n",
              "\n",
              "    .dataframe tbody tr th {\n",
              "        vertical-align: top;\n",
              "    }\n",
              "\n",
              "    .dataframe thead th {\n",
              "        text-align: right;\n",
              "    }\n",
              "</style>\n",
              "<table border=\"1\" class=\"dataframe\">\n",
              "  <thead>\n",
              "    <tr style=\"text-align: right;\">\n",
              "      <th></th>\n",
              "      <th>feature_name</th>\n",
              "      <th>p-value</th>\n",
              "    </tr>\n",
              "  </thead>\n",
              "  <tbody>\n",
              "    <tr>\n",
              "      <th>3</th>\n",
              "      <td>payment_type</td>\n",
              "      <td>5.762079e-01</td>\n",
              "    </tr>\n",
              "    <tr>\n",
              "      <th>4</th>\n",
              "      <td>payment_installments</td>\n",
              "      <td>3.584996e-01</td>\n",
              "    </tr>\n",
              "    <tr>\n",
              "      <th>1</th>\n",
              "      <td>price</td>\n",
              "      <td>3.117302e-01</td>\n",
              "    </tr>\n",
              "    <tr>\n",
              "      <th>2</th>\n",
              "      <td>freight_value</td>\n",
              "      <td>6.318284e-13</td>\n",
              "    </tr>\n",
              "    <tr>\n",
              "      <th>5</th>\n",
              "      <td>order_purchase_month</td>\n",
              "      <td>5.299681e-16</td>\n",
              "    </tr>\n",
              "    <tr>\n",
              "      <th>0</th>\n",
              "      <td>delivery_delay</td>\n",
              "      <td>0.000000e+00</td>\n",
              "    </tr>\n",
              "  </tbody>\n",
              "</table>\n",
              "</div>"
            ],
            "text/plain": [
              "           feature_name       p-value\n",
              "3          payment_type  5.762079e-01\n",
              "4  payment_installments  3.584996e-01\n",
              "1                 price  3.117302e-01\n",
              "2         freight_value  6.318284e-13\n",
              "5  order_purchase_month  5.299681e-16\n",
              "0        delivery_delay  0.000000e+00"
            ]
          },
          "execution_count": 247,
          "metadata": {},
          "output_type": "execute_result"
        }
      ]
    },
    {
      "cell_type": "code",
      "metadata": {
        "colab": {
          "base_uri": "https://localhost:8080/",
          "height": 282
        },
        "id": "o7s5eljhbL4M",
        "outputId": "737d5151-7a18-4667-a088-a997956f0a53"
      },
      "source": [
        "plt.barh(y=p_values_df['feature_name'], width=p_values_df['p-value'])"
      ],
      "execution_count": null,
      "outputs": [
        {
          "data": {
            "text/plain": [
              "<BarContainer object of 6 artists>"
            ]
          },
          "execution_count": 248,
          "metadata": {},
          "output_type": "execute_result"
        },
        {
          "data": {
            "image/png": "[encoded data removed]",
            "text/plain": [
              "<Figure size 432x288 with 1 Axes>"
            ]
          },
          "metadata": {},
          "output_type": "display_data"
        }
      ]
    },
    {
      "cell_type": "code",
      "metadata": {
        "id": "sx5WoGYDbwvI"
      },
      "source": [
        ""
      ],
      "execution_count": null,
      "outputs": []
    }
  ]
}