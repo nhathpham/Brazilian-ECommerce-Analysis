{
  "nbformat": 4,
  "nbformat_minor": 5,
  "metadata": {
    "colab": {
      "name": "Question_4.ipynb",
      "provenance": [],
      "collapsed_sections": [
        "5f4b42c2",
        "3e2054a8",
        "a089b55e",
        "2bdf2259",
        "ed086f5d",
        "4fa927ff",
        "d7fecb0a"
      ]
    },
    "kernelspec": {
      "display_name": "DeepLearning",
      "language": "python",
      "name": "deeplearning"
    },
    "language_info": {
      "codemirror_mode": {
        "name": "ipython",
        "version": 3
      },
      "file_extension": ".py",
      "mimetype": "text/x-python",
      "name": "python",
      "nbconvert_exporter": "python",
      "pygments_lexer": "ipython3",
      "version": "3.6.13"
    }
  },
  "cells": [
    {
      "cell_type": "code",
      "metadata": {
        "colab": {
          "base_uri": "https://localhost:8080/"
        },
        "id": "HJRu6zaCbz5c",
        "outputId": "c6a97a11-8a76-4808-e462-943b2e73dc26"
      },
      "source": [
        "%pip install pymysql\n",
        "\n",
        "import warnings\n",
        "warnings.filterwarnings('ignore')\n",
        "\n",
        "import matplotlib.pyplot as plt\n",
        "import os\n",
        "import pymysql\n",
        "import pandas as pd\n",
        "import numpy as np\n",
        "\n",
        "succeess = False\n",
        "\n",
        "while not succeess:\n",
        "  try:\n",
        "    conn = pymysql.connect(\n",
        "        host='db-aff.cpapv35x7rsh.us-east-2.rds.amazonaws.com',\n",
        "        port=int(3306),\n",
        "        user=\"admin\",\n",
        "        passwd=\"olist2021\",\n",
        "        db='olist',\n",
        "        charset='utf8mb4')\n",
        "    db = conn.cursor()\n",
        "    succeess = True\n",
        "  except:\n",
        "    print(\"Wrong Password\")\n",
        "\n",
        "print(\"Connection Made\")\n",
        "\n",
        "\n",
        "def add_quotes(s):\n",
        "  return '\"'+str(s)+'\",'\n",
        "\n",
        "def add_quotes_nocomma(s):\n",
        "  return '\"'+str(s)+'\"'"
      ],
      "id": "HJRu6zaCbz5c",
      "execution_count": null,
      "outputs": [
        {
          "output_type": "stream",
          "name": "stdout",
          "text": [
            "Requirement already satisfied: pymysql in /usr/local/lib/python3.7/dist-packages (1.0.2)\n",
            "Connection Made\n"
          ]
        }
      ]
    },
    {
      "cell_type": "code",
      "metadata": {
        "id": "0366943c"
      },
      "source": [
        "%config Completer.use_jedi = False\n",
        "import pandas as pd\n",
        "import numpy as np\n",
        "import torchtext\n",
        "import re\n",
        "import time\n",
        "import matplotlib.pyplot as plt"
      ],
      "id": "0366943c",
      "execution_count": null,
      "outputs": []
    },
    {
      "cell_type": "markdown",
      "metadata": {
        "id": "94013ce5"
      },
      "source": [
        "### Retrieveing and formatting data."
      ],
      "id": "94013ce5"
    },
    {
      "cell_type": "code",
      "metadata": {
        "id": "07864ab4"
      },
      "source": [
        "train_df = pd.read_sql_query(\"select * from olist.reviews\", conn)"
      ],
      "id": "07864ab4",
      "execution_count": null,
      "outputs": []
    },
    {
      "cell_type": "code",
      "metadata": {
        "colab": {
          "base_uri": "https://localhost:8080/",
          "height": 204
        },
        "id": "c67994b7",
        "outputId": "13a3bc7c-97ff-41fb-deaa-c2af7164c5f9"
      },
      "source": [
        "train_df.head()"
      ],
      "id": "c67994b7",
      "execution_count": null,
      "outputs": [
        {
          "output_type": "execute_result",
          "data": {
            "text/html": [
              "<div>\n",
              "<style scoped>\n",
              "    .dataframe tbody tr th:only-of-type {\n",
              "        vertical-align: middle;\n",
              "    }\n",
              "\n",
              "    .dataframe tbody tr th {\n",
              "        vertical-align: top;\n",
              "    }\n",
              "\n",
              "    .dataframe thead th {\n",
              "        text-align: right;\n",
              "    }\n",
              "</style>\n",
              "<table border=\"1\" class=\"dataframe\">\n",
              "  <thead>\n",
              "    <tr style=\"text-align: right;\">\n",
              "      <th></th>\n",
              "      <th>review_id</th>\n",
              "      <th>order_id</th>\n",
              "      <th>score</th>\n",
              "      <th>title</th>\n",
              "      <th>message</th>\n",
              "      <th>created_date</th>\n",
              "      <th>answer_date</th>\n",
              "    </tr>\n",
              "  </thead>\n",
              "  <tbody>\n",
              "    <tr>\n",
              "      <th>0</th>\n",
              "      <td>0001239bc1de2e33cb583967c2ca4c67</td>\n",
              "      <td>fc046d7776171871436844218f817d7d</td>\n",
              "      <td>5</td>\n",
              "      <td>nan</td>\n",
              "      <td>nan</td>\n",
              "      <td>2018-03-20</td>\n",
              "      <td>2018-03-20 18:36:04</td>\n",
              "    </tr>\n",
              "    <tr>\n",
              "      <th>1</th>\n",
              "      <td>0001cc6860aeaf5b9017fe4131a52e62</td>\n",
              "      <td>d4665434b01caa9dc3e3e78b3eb3593e</td>\n",
              "      <td>5</td>\n",
              "      <td>nan</td>\n",
              "      <td>nan</td>\n",
              "      <td>2018-06-22</td>\n",
              "      <td>2018-06-26 13:51:29</td>\n",
              "    </tr>\n",
              "    <tr>\n",
              "      <th>2</th>\n",
              "      <td>00020c7512a52e92212f12d3e37513c0</td>\n",
              "      <td>e28abf2eb2f1fbcbdc2dd0cd9a561671</td>\n",
              "      <td>5</td>\n",
              "      <td>Entrega rápida!</td>\n",
              "      <td>A entrega foi super rápida e o pendente é lind...</td>\n",
              "      <td>2018-04-25</td>\n",
              "      <td>2018-04-26 14:55:36</td>\n",
              "    </tr>\n",
              "    <tr>\n",
              "      <th>3</th>\n",
              "      <td>00032b0141443497c898b3093690af51</td>\n",
              "      <td>04fb47576993a3cb0c12d4b25eab6e4e</td>\n",
              "      <td>5</td>\n",
              "      <td>nan</td>\n",
              "      <td>nan</td>\n",
              "      <td>2017-05-30</td>\n",
              "      <td>2017-06-01 23:28:55</td>\n",
              "    </tr>\n",
              "    <tr>\n",
              "      <th>4</th>\n",
              "      <td>00034d88989f9a4c393bdcaec301537f</td>\n",
              "      <td>5f358d797a49fe2f24352f73426215f6</td>\n",
              "      <td>5</td>\n",
              "      <td>nan</td>\n",
              "      <td>nan</td>\n",
              "      <td>2017-08-12</td>\n",
              "      <td>2017-08-13 19:56:53</td>\n",
              "    </tr>\n",
              "  </tbody>\n",
              "</table>\n",
              "</div>"
            ],
            "text/plain": [
              "                          review_id  ...         answer_date\n",
              "0  0001239bc1de2e33cb583967c2ca4c67  ... 2018-03-20 18:36:04\n",
              "1  0001cc6860aeaf5b9017fe4131a52e62  ... 2018-06-26 13:51:29\n",
              "2  00020c7512a52e92212f12d3e37513c0  ... 2018-04-26 14:55:36\n",
              "3  00032b0141443497c898b3093690af51  ... 2017-06-01 23:28:55\n",
              "4  00034d88989f9a4c393bdcaec301537f  ... 2017-08-13 19:56:53\n",
              "\n",
              "[5 rows x 7 columns]"
            ]
          },
          "metadata": {},
          "execution_count": 4
        }
      ]
    },
    {
      "cell_type": "code",
      "metadata": {
        "id": "ff1c623a"
      },
      "source": [
        "reviews_df = train_df.dropna(subset=['message'])[['message', 'score']]"
      ],
      "id": "ff1c623a",
      "execution_count": null,
      "outputs": []
    },
    {
      "cell_type": "code",
      "metadata": {
        "id": "f9e31aee"
      },
      "source": [
        "reviews_df = reviews_df.reset_index(drop=True)"
      ],
      "id": "f9e31aee",
      "execution_count": null,
      "outputs": []
    },
    {
      "cell_type": "code",
      "metadata": {
        "id": "f65413ed"
      },
      "source": [
        "reviews_df.drop_duplicates(subset=['message'], inplace=True)"
      ],
      "id": "f65413ed",
      "execution_count": null,
      "outputs": []
    },
    {
      "cell_type": "code",
      "metadata": {
        "id": "12cb49c9"
      },
      "source": [
        "reviews_df['score'] = reviews_df['score'].apply(lambda x: \"Negative\" if x < 4 else \"Positive\")"
      ],
      "id": "12cb49c9",
      "execution_count": null,
      "outputs": []
    },
    {
      "cell_type": "code",
      "metadata": {
        "id": "5890c3d7",
        "colab": {
          "base_uri": "https://localhost:8080/"
        },
        "outputId": "86a39727-0adf-4284-d8c5-278162fd737f"
      },
      "source": [
        "import nltk\n",
        "from nltk.corpus import stopwords\n",
        "nltk.download('stopwords')"
      ],
      "id": "5890c3d7",
      "execution_count": null,
      "outputs": [
        {
          "output_type": "stream",
          "name": "stdout",
          "text": [
            "[nltk_data] Downloading package stopwords to /root/nltk_data...\n",
            "[nltk_data]   Unzipping corpora/stopwords.zip.\n"
          ]
        },
        {
          "output_type": "execute_result",
          "data": {
            "text/plain": [
              "True"
            ]
          },
          "metadata": {},
          "execution_count": 15
        }
      ]
    },
    {
      "cell_type": "markdown",
      "metadata": {
        "id": "8822ad04"
      },
      "source": [
        "## Cleaning text data."
      ],
      "id": "8822ad04"
    },
    {
      "cell_type": "code",
      "metadata": {
        "id": "cdd0b16a"
      },
      "source": [
        "# #TODO Describe each and every regex pattern and operation. Also state how long did it take to finalize the \n",
        "# # text cleaning.\n",
        "# def clean_text(text):\n",
        "#     pattern = re.compile(r'\\b[a-zA-Z]+\\b')\n",
        "#     output = ' '.join(pattern.findall(text)).lower()\n",
        "#     output = re.sub(r'\\b[a-z]\\b', '', output)\n",
        "#     output = re.sub(r'\\s+', ' ', output).strip()\n",
        "    \n",
        "#     return output"
      ],
      "id": "cdd0b16a",
      "execution_count": null,
      "outputs": []
    },
    {
      "cell_type": "code",
      "metadata": {
        "id": "UwLgjjsLhJx4"
      },
      "source": [
        "#TODO Describe each and every regex pattern and operation. Also state how long did it take to finalize the \n",
        "# text cleaning.\n",
        "def clean_text(text):\n",
        "    # Only keep words which contains alphabets only and no other special character or number\n",
        "    pattern = re.compile(r'\\b[a-zA-Z]+\\b')\n",
        "    \n",
        "    # Perform above operation and then convert the review to lower case.\n",
        "    output = ' '.join(pattern.findall(text)).lower()\n",
        "    \n",
        "    # Remove single alphabet words like a, and I.\n",
        "    output = re.sub(r'\\b[a-z]\\b', '', output)\n",
        "    \n",
        "    # Remove extra space from the review text.\n",
        "    output = re.sub(r'\\s+', ' ', output).strip()\n",
        "    \n",
        "    # Remove stopword like the, me, he, she from the textual review.\n",
        "    port_stopwords = stopwords.words('portuguese')\n",
        "    \n",
        "    output = ' '.join([word for word in output.split() if word not in port_stopwords])\n",
        "    \n",
        "    return output"
      ],
      "id": "UwLgjjsLhJx4",
      "execution_count": null,
      "outputs": []
    },
    {
      "cell_type": "code",
      "metadata": {
        "id": "9be76df5"
      },
      "source": [
        "clean_df = pd.DataFrame({\n",
        "    'label': reviews_df['score'],\n",
        "    'clean_text': reviews_df['message'].apply(clean_text)\n",
        "})"
      ],
      "id": "9be76df5",
      "execution_count": null,
      "outputs": []
    },
    {
      "cell_type": "code",
      "metadata": {
        "colab": {
          "base_uri": "https://localhost:8080/",
          "height": 204
        },
        "id": "c488e8b7",
        "outputId": "aac49cce-935b-4df2-adcd-b273330c1f1e"
      },
      "source": [
        "clean_df.head()"
      ],
      "id": "c488e8b7",
      "execution_count": null,
      "outputs": [
        {
          "output_type": "execute_result",
          "data": {
            "text/html": [
              "<div>\n",
              "<style scoped>\n",
              "    .dataframe tbody tr th:only-of-type {\n",
              "        vertical-align: middle;\n",
              "    }\n",
              "\n",
              "    .dataframe tbody tr th {\n",
              "        vertical-align: top;\n",
              "    }\n",
              "\n",
              "    .dataframe thead th {\n",
              "        text-align: right;\n",
              "    }\n",
              "</style>\n",
              "<table border=\"1\" class=\"dataframe\">\n",
              "  <thead>\n",
              "    <tr style=\"text-align: right;\">\n",
              "      <th></th>\n",
              "      <th>label</th>\n",
              "      <th>clean_text</th>\n",
              "    </tr>\n",
              "  </thead>\n",
              "  <tbody>\n",
              "    <tr>\n",
              "      <th>0</th>\n",
              "      <td>Positive</td>\n",
              "      <td>nan</td>\n",
              "    </tr>\n",
              "    <tr>\n",
              "      <th>2</th>\n",
              "      <td>Positive</td>\n",
              "      <td>entrega super pendente lindo igual foto</td>\n",
              "    </tr>\n",
              "    <tr>\n",
              "      <th>7</th>\n",
              "      <td>Positive</td>\n",
              "      <td>gostei capinha celular veio esperava</td>\n",
              "    </tr>\n",
              "    <tr>\n",
              "      <th>8</th>\n",
              "      <td>Positive</td>\n",
              "      <td>otimo produto prazo cumprido sabor tambem bom</td>\n",
              "    </tr>\n",
              "    <tr>\n",
              "      <th>9</th>\n",
              "      <td>Positive</td>\n",
              "      <td>produto entregue antes esperado agilidade</td>\n",
              "    </tr>\n",
              "  </tbody>\n",
              "</table>\n",
              "</div>"
            ],
            "text/plain": [
              "      label                                     clean_text\n",
              "0  Positive                                            nan\n",
              "2  Positive        entrega super pendente lindo igual foto\n",
              "7  Positive           gostei capinha celular veio esperava\n",
              "8  Positive  otimo produto prazo cumprido sabor tambem bom\n",
              "9  Positive      produto entregue antes esperado agilidade"
            ]
          },
          "metadata": {},
          "execution_count": 18
        }
      ]
    },
    {
      "cell_type": "markdown",
      "metadata": {
        "id": "a9cda788"
      },
      "source": [
        "#### Store the cleaned data, before preprocessing it."
      ],
      "id": "a9cda788"
    },
    {
      "cell_type": "code",
      "metadata": {
        "id": "1b1e04bb"
      },
      "source": [
        "clean_df.to_pickle('clean_reviews.pkl')"
      ],
      "id": "1b1e04bb",
      "execution_count": null,
      "outputs": []
    },
    {
      "cell_type": "code",
      "metadata": {
        "id": "666b4616"
      },
      "source": [],
      "id": "666b4616",
      "execution_count": null,
      "outputs": []
    },
    {
      "cell_type": "markdown",
      "metadata": {
        "id": "1f086ba4"
      },
      "source": [
        "## Word Clouds, Visualizing frequently occuring words "
      ],
      "id": "1f086ba4"
    },
    {
      "cell_type": "code",
      "metadata": {
        "id": "fa06417f"
      },
      "source": [
        "from wordcloud import WordCloud"
      ],
      "id": "fa06417f",
      "execution_count": null,
      "outputs": []
    },
    {
      "cell_type": "code",
      "metadata": {
        "id": "gU05x6VBkrdd"
      },
      "source": [],
      "id": "gU05x6VBkrdd",
      "execution_count": null,
      "outputs": []
    },
    {
      "cell_type": "code",
      "metadata": {
        "id": "08b61728"
      },
      "source": [
        "def plotwordcloud(label):\n",
        "\n",
        "\n",
        "    text = ' '.join((clean_df[clean_df['label'] == label]['clean_text']).values)\n",
        "    \n",
        "    plt.figure(figsize = (9,9)) ;\n",
        "    wordcloud = WordCloud(min_font_size = 3,  max_words = 100 , width = 1200 , height = 800).generate(text)\n",
        "    plt.imshow(wordcloud,interpolation = 'bilinear');"
      ],
      "id": "08b61728",
      "execution_count": null,
      "outputs": []
    },
    {
      "cell_type": "code",
      "metadata": {
        "colab": {
          "base_uri": "https://localhost:8080/",
          "height": 386
        },
        "id": "00935f36",
        "outputId": "0b374f1e-d735-4899-ff93-fc2a982aa856"
      },
      "source": [
        "plotwordcloud(\"Negative\")"
      ],
      "id": "00935f36",
      "execution_count": null,
      "outputs": [
        {
          "output_type": "display_data",
          "data": {
            "image/png": "[encoded data removed]",
            "text/plain": [
              "<Figure size 648x648 with 1 Axes>"
            ]
          },
          "metadata": {
            "needs_background": "light"
          }
        }
      ]
    },
    {
      "cell_type": "code",
      "metadata": {
        "id": "83e0fbb2"
      },
      "source": [],
      "id": "83e0fbb2",
      "execution_count": null,
      "outputs": []
    },
    {
      "cell_type": "markdown",
      "metadata": {
        "id": "91f87be5"
      },
      "source": [
        "There are a lot of common most frequently occuring words, hence they are overlapping for each category."
      ],
      "id": "91f87be5"
    },
    {
      "cell_type": "markdown",
      "metadata": {
        "id": "baa51517"
      },
      "source": [
        "### Getting top 30 common words for each category."
      ],
      "id": "baa51517"
    },
    {
      "cell_type": "code",
      "metadata": {
        "id": "453b4b94"
      },
      "source": [
        "from collections import Counter\n",
        "\n",
        "un_labels = clean_df['label'].unique()\n",
        "counter_dict = {}\n",
        "\n",
        "for label in un_labels:\n",
        "    df_here = clean_df[clean_df['label'] == label]\n",
        "    combined_text_here = ' '.join(df_here['clean_text'].values)\n",
        "    counter_dict[str(label)] = Counter([word for word in combined_text_here.split()]).most_common()[:30]"
      ],
      "id": "453b4b94",
      "execution_count": null,
      "outputs": []
    },
    {
      "cell_type": "markdown",
      "metadata": {
        "id": "3bc07adc"
      },
      "source": [
        "#### Getting commonly occuring words in each category (words which are common in more than 2 categories)."
      ],
      "id": "3bc07adc"
    },
    {
      "cell_type": "code",
      "metadata": {
        "id": "6480bc23"
      },
      "source": [
        "combined_words = []\n",
        "for label in un_labels:\n",
        "    [combined_words.append(word) for word, count in counter_dict[str(label)]]\n",
        "\n",
        "common_words = [word for word, count in list(Counter(combined_words).items()) if count > 1]"
      ],
      "id": "6480bc23",
      "execution_count": null,
      "outputs": []
    },
    {
      "cell_type": "code",
      "metadata": {
        "colab": {
          "base_uri": "https://localhost:8080/"
        },
        "id": "LhFZRQZZmAzK",
        "outputId": "1c8d932c-e725-4a22-f938-3b0248216358"
      },
      "source": [
        "common_words"
      ],
      "id": "LhFZRQZZmAzK",
      "execution_count": null,
      "outputs": [
        {
          "output_type": "execute_result",
          "data": {
            "text/plain": [
              "['produto',\n",
              " 'prazo',\n",
              " 'entrega',\n",
              " 'chegou',\n",
              " 'qualidade',\n",
              " 'entregue',\n",
              " 'loja',\n",
              " 'recebi',\n",
              " 'veio',\n",
              " 'compra',\n",
              " 'lannister',\n",
              " 'ainda']"
            ]
          },
          "metadata": {},
          "execution_count": 28
        }
      ]
    },
    {
      "cell_type": "markdown",
      "metadata": {
        "id": "2c332118"
      },
      "source": [
        "#### Creating a new top words dictionary where words are not common to each category."
      ],
      "id": "2c332118"
    },
    {
      "cell_type": "code",
      "metadata": {
        "id": "92889518"
      },
      "source": [
        "un_top_dict = {}\n",
        "for label in un_labels:\n",
        "    un_top_dict[str(label)] = [(word, count) for word, count in counter_dict[str(label)] if word not in common_words]"
      ],
      "id": "92889518",
      "execution_count": null,
      "outputs": []
    },
    {
      "cell_type": "code",
      "metadata": {
        "id": "dde1b29a",
        "colab": {
          "base_uri": "https://localhost:8080/"
        },
        "outputId": "12366216-a1db-49cb-ca64-90b6b0845ba6"
      },
      "source": [
        "un_top_dict"
      ],
      "id": "dde1b29a",
      "execution_count": null,
      "outputs": [
        {
          "output_type": "execute_result",
          "data": {
            "text/plain": [
              "{'Negative': [('comprei', 2138),\n",
              "  ('nao', 1086),\n",
              "  ('pedido', 922),\n",
              "  ('dia', 890),\n",
              "  ('agora', 750),\n",
              "  ('apenas', 671),\n",
              "  ('pois', 654),\n",
              "  ('produtos', 651),\n",
              "  ('site', 604),\n",
              "  ('dois', 584),\n",
              "  ('nada', 561),\n",
              "  ('quero', 544),\n",
              "  ('ser', 522),\n",
              "  ('outro', 513),\n",
              "  ('contato', 512),\n",
              "  ('pra', 511),\n",
              "  ('dias', 501),\n",
              "  ('aguardando', 499)],\n",
              " 'Positive': [('antes', 5057),\n",
              "  ('recomendo', 3469),\n",
              "  ('bom', 3012),\n",
              "  ('bem', 2665),\n",
              "  ('tudo', 1843),\n",
              "  ('super', 1554),\n",
              "  ('excelente', 1488),\n",
              "  ('gostei', 1316),\n",
              "  ('dentro', 1141),\n",
              "  ('boa', 907),\n",
              "  ('perfeito', 850),\n",
              "  ('sempre', 787),\n",
              "  ('previsto', 766),\n",
              "  ('embalado', 711),\n",
              "  ('conforme', 711),\n",
              "  ('comprar', 700),\n",
              "  ('adorei', 698),\n",
              "  ('certo', 682)]}"
            ]
          },
          "metadata": {},
          "execution_count": 30
        }
      ]
    },
    {
      "cell_type": "markdown",
      "metadata": {
        "id": "513391a0"
      },
      "source": [
        "## Most frequently occuring words for the 'Negative' Sentiment."
      ],
      "id": "513391a0"
    },
    {
      "cell_type": "code",
      "metadata": {
        "colab": {
          "base_uri": "https://localhost:8080/",
          "height": 282
        },
        "id": "1d0e0bb4",
        "outputId": "f5af8172-f7c3-4759-9ea2-e4ea754484e3"
      },
      "source": [
        "plt.barh(y=np.array(un_top_dict['Negative'])[:, 0][::-1], width=np.array(un_top_dict['Negative'])[:, 1][::-1].astype(np.float))"
      ],
      "id": "1d0e0bb4",
      "execution_count": null,
      "outputs": [
        {
          "output_type": "execute_result",
          "data": {
            "text/plain": [
              "<BarContainer object of 18 artists>"
            ]
          },
          "metadata": {},
          "execution_count": 31
        },
        {
          "output_type": "display_data",
          "data": {
            "image/png": "[encoded data removed]",
            "text/plain": [
              "<Figure size 432x288 with 1 Axes>"
            ]
          },
          "metadata": {
            "needs_background": "light"
          }
        }
      ]
    },
    {
      "cell_type": "code",
      "metadata": {
        "id": "48ab83f7"
      },
      "source": [],
      "id": "48ab83f7",
      "execution_count": null,
      "outputs": []
    },
    {
      "cell_type": "markdown",
      "metadata": {
        "id": "5f4b42c2"
      },
      "source": [
        "## Most frequently occuring words for the 'Positive' sentiment."
      ],
      "id": "5f4b42c2"
    },
    {
      "cell_type": "code",
      "metadata": {
        "colab": {
          "base_uri": "https://localhost:8080/",
          "height": 282
        },
        "id": "9aa77f0d",
        "outputId": "d21ef1ef-1f3d-40d3-b6f4-68359c5c7992"
      },
      "source": [
        "plt.barh(y=np.array(un_top_dict['Positive'])[:, 0][::-1], width=np.array(un_top_dict['Positive'])[:, 1][::-1].astype(np.float))"
      ],
      "id": "9aa77f0d",
      "execution_count": null,
      "outputs": [
        {
          "output_type": "execute_result",
          "data": {
            "text/plain": [
              "<BarContainer object of 10 artists>"
            ]
          },
          "metadata": {},
          "execution_count": 67
        },
        {
          "output_type": "display_data",
          "data": {
            "image/png": "[encoded data removed]",
            "text/plain": [
              "<Figure size 432x288 with 1 Axes>"
            ]
          },
          "metadata": {
            "needs_background": "light"
          }
        }
      ]
    },
    {
      "cell_type": "code",
      "metadata": {
        "id": "1d4cf984"
      },
      "source": [],
      "id": "1d4cf984",
      "execution_count": null,
      "outputs": []
    },
    {
      "cell_type": "code",
      "metadata": {
        "id": "47452aab"
      },
      "source": [],
      "id": "47452aab",
      "execution_count": null,
      "outputs": []
    },
    {
      "cell_type": "markdown",
      "metadata": {
        "id": "47bccfb0"
      },
      "source": [
        "## Preprocessing the text data.\n",
        "#### Using Stemming and/or Lemmatization."
      ],
      "id": "47bccfb0"
    },
    {
      "cell_type": "code",
      "metadata": {
        "colab": {
          "base_uri": "https://localhost:8080/"
        },
        "id": "cafff569",
        "outputId": "db13ae7c-c897-4597-cace-f1b262c7ccc4"
      },
      "source": [
        "import nltk\n",
        "from nltk import word_tokenize\n",
        "from nltk.stem import LancasterStemmer\n",
        "from nltk.stem import WordNetLemmatizer\n",
        "import concurrent.futures\n",
        "nltk.download('punkt')"
      ],
      "id": "cafff569",
      "execution_count": null,
      "outputs": [
        {
          "output_type": "stream",
          "name": "stdout",
          "text": [
            "[nltk_data] Downloading package punkt to /root/nltk_data...\n",
            "[nltk_data]   Unzipping tokenizers/punkt.zip.\n"
          ]
        },
        {
          "output_type": "execute_result",
          "data": {
            "text/plain": [
              "True"
            ]
          },
          "metadata": {},
          "execution_count": 32
        }
      ]
    },
    {
      "cell_type": "code",
      "metadata": {
        "id": "P-G-2cLYnlU1"
      },
      "source": [],
      "id": "P-G-2cLYnlU1",
      "execution_count": null,
      "outputs": []
    },
    {
      "cell_type": "code",
      "metadata": {
        "id": "cdd7809e"
      },
      "source": [
        "def preprocess_text(text):\n",
        "    stemmer = LancasterStemmer()\n",
        "#     lemmatizer = WordNetLemmatizer()\n",
        "    words = word_tokenize(text)\n",
        "    pp_list = []\n",
        "    for word in words:\n",
        "          pp_list.append(word)\n",
        "          pp_list.append(stemmer.stem(word))\n",
        "#             pp_list.append(lemmatizer.lemmatize(word))\n",
        "            \n",
        "    \n",
        "    pp_text = ' '.join(pp_list)\n",
        "    return pp_text"
      ],
      "id": "cdd7809e",
      "execution_count": null,
      "outputs": []
    },
    {
      "cell_type": "code",
      "metadata": {
        "id": "f0a022f4"
      },
      "source": [
        "import multiprocessing\n",
        "\n",
        "n_parallel = multiprocessing.cpu_count() # Number of parallel processes\n",
        "data_range = int(clean_df.shape[0] / n_parallel)\n",
        "def parallel_pp_text(index):\n",
        "    start = index*data_range\n",
        "    end = (index+1)*data_range-1\n",
        "    pp_text_df = clean_df.loc[start:end, 'clean_text'].apply(preprocess_text)\n",
        "    \n",
        "    return pp_text_df"
      ],
      "id": "f0a022f4",
      "execution_count": null,
      "outputs": []
    },
    {
      "cell_type": "code",
      "metadata": {
        "id": "2568738f"
      },
      "source": [],
      "id": "2568738f",
      "execution_count": null,
      "outputs": []
    },
    {
      "cell_type": "code",
      "metadata": {
        "id": "74266903"
      },
      "source": [
        "clean_df['pp_text'] = clean_df['clean_text'].apply(preprocess_text)"
      ],
      "id": "74266903",
      "execution_count": null,
      "outputs": []
    },
    {
      "cell_type": "code",
      "metadata": {
        "id": "288f8a45"
      },
      "source": [
        "clean_df.to_pickle('idmp_reviews_preprocessed_data.pkl')"
      ],
      "id": "288f8a45",
      "execution_count": null,
      "outputs": []
    },
    {
      "cell_type": "code",
      "metadata": {
        "id": "171a529a"
      },
      "source": [],
      "id": "171a529a",
      "execution_count": null,
      "outputs": []
    },
    {
      "cell_type": "markdown",
      "metadata": {
        "id": "3e2054a8"
      },
      "source": [
        "## Building Machine Learning Models"
      ],
      "id": "3e2054a8"
    },
    {
      "cell_type": "markdown",
      "metadata": {
        "id": "a089b55e"
      },
      "source": [
        "### Using SKlearn"
      ],
      "id": "a089b55e"
    },
    {
      "cell_type": "code",
      "metadata": {
        "id": "24bc2aac"
      },
      "source": [
        "from sklearn.feature_extraction.text import TfidfVectorizer\n",
        "from sklearn.model_selection import train_test_split"
      ],
      "id": "24bc2aac",
      "execution_count": null,
      "outputs": []
    },
    {
      "cell_type": "code",
      "source": [
        "n_unq_words = 4347"
      ],
      "metadata": {
        "id": "TRN17qZ5T5rf"
      },
      "id": "TRN17qZ5T5rf",
      "execution_count": null,
      "outputs": []
    },
    {
      "cell_type": "code",
      "metadata": {
        "id": "0484ab26"
      },
      "source": [
        "x_train_text, x_valid_text, y_train, y_valid = train_test_split(clean_df['pp_text'], clean_df['label'].values,test_size=0.2,\n",
        "                                                     random_state=9)"
      ],
      "id": "0484ab26",
      "execution_count": null,
      "outputs": []
    },
    {
      "cell_type": "code",
      "metadata": {
        "colab": {
          "base_uri": "https://localhost:8080/"
        },
        "id": "c7ee817d",
        "outputId": "32d36399-882a-4ef6-d0e0-37e29ebf1f9f"
      },
      "source": [
        "tfidf = TfidfVectorizer(max_features=n_unq_words, min_df=2)\n",
        "tfidf.fit(clean_df['pp_text'])"
      ],
      "id": "c7ee817d",
      "execution_count": null,
      "outputs": [
        {
          "output_type": "execute_result",
          "data": {
            "text/plain": [
              "TfidfVectorizer(max_features=4347, min_df=2)"
            ]
          },
          "metadata": {},
          "execution_count": 135
        }
      ]
    },
    {
      "cell_type": "code",
      "metadata": {
        "id": "c7fc658f"
      },
      "source": [
        "x_train1 = tfidf.transform(x_train_text)\n",
        "x_test1 = tfidf.transform(x_valid_text)"
      ],
      "id": "c7fc658f",
      "execution_count": null,
      "outputs": []
    },
    {
      "cell_type": "code",
      "metadata": {
        "id": "6e98d141"
      },
      "source": [
        "x_train_arr1 = x_train1.toarray()\n",
        "x_test_arr1 = x_test1.toarray()"
      ],
      "id": "6e98d141",
      "execution_count": null,
      "outputs": []
    },
    {
      "cell_type": "code",
      "source": [
        "x_train_arr1.shape"
      ],
      "metadata": {
        "colab": {
          "base_uri": "https://localhost:8080/"
        },
        "id": "xvChR0vhlk6R",
        "outputId": "010e68bb-c0fa-4de9-d669-363db2755e8a"
      },
      "id": "xvChR0vhlk6R",
      "execution_count": null,
      "outputs": [
        {
          "output_type": "execute_result",
          "data": {
            "text/plain": [
              "(28928, 4347)"
            ]
          },
          "metadata": {},
          "execution_count": 131
        }
      ]
    },
    {
      "cell_type": "markdown",
      "metadata": {
        "id": "ed086f5d"
      },
      "source": [
        "### Using Tensorflow and Keras for tokenization"
      ],
      "id": "ed086f5d"
    },
    {
      "cell_type": "code",
      "metadata": {
        "id": "43ae07c8"
      },
      "source": [],
      "id": "43ae07c8",
      "execution_count": null,
      "outputs": []
    },
    {
      "cell_type": "code",
      "metadata": {
        "id": "06a2b1dc"
      },
      "source": [
        "import tensorflow as tf\n",
        "from tensorflow import keras\n",
        "from tensorflow.keras.preprocessing.text import Tokenizer\n",
        "from tensorflow.keras.preprocessing.sequence import pad_sequences\n",
        "from tensorflow.keras.models import Model, Sequential\n",
        "from tensorflow.keras.layers import Embedding, LSTM, Dense, Dropout, GlobalMaxPooling1D, Bidirectional, BatchNormalization\n",
        "from tensorflow.keras.optimizers import Adam\n",
        "from sklearn.preprocessing import LabelBinarizer\n",
        "from sklearn.model_selection import train_test_split"
      ],
      "id": "06a2b1dc",
      "execution_count": null,
      "outputs": []
    },
    {
      "cell_type": "code",
      "metadata": {
        "id": "d4c7f1d0"
      },
      "source": [
        "clean_df['text_len'] = clean_df['clean_text'].apply(lambda x: len(x.split()))"
      ],
      "id": "d4c7f1d0",
      "execution_count": null,
      "outputs": []
    },
    {
      "cell_type": "code",
      "metadata": {
        "colab": {
          "base_uri": "https://localhost:8080/",
          "height": 295
        },
        "id": "9fbfbb1a",
        "outputId": "ebff7ae5-5fcb-437f-f32f-bedf2b406d2a"
      },
      "source": [
        "plt.hist(clean_df['text_len'].values, bins=50)\n",
        "plt.title(\"Distribution for length of text\")\n",
        "plt.xlabel(\"Text length, Word counts\")\n",
        "plt.ylabel(\"Count\")\n",
        "plt.show()"
      ],
      "id": "9fbfbb1a",
      "execution_count": null,
      "outputs": [
        {
          "output_type": "display_data",
          "data": {
            "image/png": "[encoded data removed]",
            "text/plain": [
              "<Figure size 432x288 with 1 Axes>"
            ]
          },
          "metadata": {
            "needs_background": "light"
          }
        }
      ]
    },
    {
      "cell_type": "markdown",
      "metadata": {
        "id": "6cf0505d"
      },
      "source": [
        "Selecting max text length to be 35 after refering to the histogram."
      ],
      "id": "6cf0505d"
    },
    {
      "cell_type": "code",
      "metadata": {
        "id": "a547a9ec"
      },
      "source": [
        "vocab_size = n_unq_words\n",
        "max_len = 35\n",
        "tokenizer = Tokenizer(num_words=vocab_size)"
      ],
      "id": "a547a9ec",
      "execution_count": null,
      "outputs": []
    },
    {
      "cell_type": "code",
      "metadata": {
        "id": "bb42cd7b"
      },
      "source": [
        "x = clean_df['clean_text']\n",
        "y = LabelBinarizer().fit_transform(clean_df['label'].values)\n",
        "x_train_text, x_valid_text, y_train, y_valid = train_test_split(x.values, y,test_size=0.2,\n",
        "                                                     random_state=9)"
      ],
      "id": "bb42cd7b",
      "execution_count": null,
      "outputs": []
    },
    {
      "cell_type": "code",
      "metadata": {
        "id": "6db4fcd8"
      },
      "source": [
        "tokenizer.fit_on_texts(x.values)"
      ],
      "id": "6db4fcd8",
      "execution_count": null,
      "outputs": []
    },
    {
      "cell_type": "code",
      "metadata": {
        "id": "65cedffe"
      },
      "source": [
        "x_train = tokenizer.texts_to_sequences(x_train_text)\n",
        "x_valid = tokenizer.texts_to_sequences(x_valid_text)"
      ],
      "id": "65cedffe",
      "execution_count": null,
      "outputs": []
    },
    {
      "cell_type": "code",
      "metadata": {
        "id": "c5b09fee"
      },
      "source": [
        "x_train = pad_sequences(x_train, maxlen=35)\n",
        "x_valid = pad_sequences(x_valid, maxlen=35)"
      ],
      "id": "c5b09fee",
      "execution_count": null,
      "outputs": []
    },
    {
      "cell_type": "code",
      "metadata": {
        "colab": {
          "base_uri": "https://localhost:8080/"
        },
        "id": "41e16a39",
        "outputId": "f9f7f1cf-42c5-4aea-ddc8-713d092dba22"
      },
      "source": [
        "x_train.shape"
      ],
      "id": "41e16a39",
      "execution_count": null,
      "outputs": [
        {
          "output_type": "execute_result",
          "data": {
            "text/plain": [
              "(28928, 35)"
            ]
          },
          "metadata": {},
          "execution_count": 120
        }
      ]
    },
    {
      "cell_type": "code",
      "source": [],
      "metadata": {
        "id": "6pARuReAnsCN"
      },
      "id": "6pARuReAnsCN",
      "execution_count": null,
      "outputs": []
    },
    {
      "cell_type": "markdown",
      "source": [
        "## Using Logistic Regression"
      ],
      "metadata": {
        "id": "GTeKuqv7i-Bx"
      },
      "id": "GTeKuqv7i-Bx"
    },
    {
      "cell_type": "code",
      "source": [
        "from sklearn.linear_model import LogisticRegression"
      ],
      "metadata": {
        "id": "yVNcBIhBjNax"
      },
      "id": "yVNcBIhBjNax",
      "execution_count": null,
      "outputs": []
    },
    {
      "cell_type": "code",
      "source": [
        "logreg = {}\n",
        "logreg_scores = {}"
      ],
      "metadata": {
        "id": "7v0_TQ3njCtu"
      },
      "id": "7v0_TQ3njCtu",
      "execution_count": null,
      "outputs": []
    },
    {
      "cell_type": "code",
      "source": [
        "logreg['tokenizer'] = LogisticRegression().fit(x_train, y_train)\n",
        "logreg_scores['test_tokenizer'] = logreg['tokenizer'].score(x_valid, y_valid)\n",
        "logreg_scores['train_tokenizer'] = logreg['tokenizer'].score(x_train, y_train)"
      ],
      "metadata": {
        "id": "FR-leyyQjCKe"
      },
      "id": "FR-leyyQjCKe",
      "execution_count": null,
      "outputs": []
    },
    {
      "cell_type": "code",
      "source": [
        "logreg['tfidf'] = LogisticRegression().fit(x_train_arr1, y_train)\n",
        "logreg_scores['test_tfidf'] = logreg['tfidf'].score(x_test_arr1, y_valid)\n",
        "logreg_scores['train_tfidf'] = logreg['tfidf'].score(x_train_arr1, y_train)"
      ],
      "metadata": {
        "id": "9b9yVuj8jSw3"
      },
      "id": "9b9yVuj8jSw3",
      "execution_count": null,
      "outputs": []
    },
    {
      "cell_type": "code",
      "source": [
        "print(\"Train score with tokenizer :- \", logreg_scores['train_tokenizer'])\n",
        "print(\"Test score with tokenizer :- \", logreg_scores['test_tokenizer'])\n",
        "print(\"Train score with tfidf :- \", logreg_scores['train_tfidf'])\n",
        "print(\"Test score with tfidf :- \", logreg_scores['test_tfidf'])"
      ],
      "metadata": {
        "colab": {
          "base_uri": "https://localhost:8080/"
        },
        "id": "enaUUUXxj6r4",
        "outputId": "7f145144-a7f2-4b7d-cd43-b8e5a890b271"
      },
      "id": "enaUUUXxj6r4",
      "execution_count": null,
      "outputs": [
        {
          "output_type": "stream",
          "name": "stdout",
          "text": [
            "Train score with tokenizer :-  0.6781664823008849\n",
            "Test score with tokenizer :-  0.6785121681415929\n",
            "Train score with tfidf :-  0.8901756084070797\n",
            "Test score with tfidf :-  0.8810840707964602\n"
          ]
        }
      ]
    },
    {
      "cell_type": "markdown",
      "metadata": {
        "id": "4fa927ff"
      },
      "source": [
        "### Random Forest Classifier"
      ],
      "id": "4fa927ff"
    },
    {
      "cell_type": "code",
      "metadata": {
        "id": "594ce37f"
      },
      "source": [
        "from sklearn.ensemble import RandomForestClassifier"
      ],
      "id": "594ce37f",
      "execution_count": null,
      "outputs": []
    },
    {
      "cell_type": "code",
      "source": [
        "ranfor = {}\n",
        "ranfor_scores = {}"
      ],
      "metadata": {
        "id": "e3zD5BiNh-lB"
      },
      "id": "e3zD5BiNh-lB",
      "execution_count": null,
      "outputs": []
    },
    {
      "cell_type": "code",
      "metadata": {
        "id": "5c40c60b"
      },
      "source": [
        "ranfor['tokenizer'] = RandomForestClassifier(n_estimators=100).fit(x_train, y_train)\n",
        "ranfor_scores['test_tokenizer'] = ranfor['tokenizer'].score(x_valid, y_valid)\n",
        "ranfor_scores['train_tokenizer'] = ranfor['tokenizer'].score(x_train, y_train)"
      ],
      "id": "5c40c60b",
      "execution_count": null,
      "outputs": []
    },
    {
      "cell_type": "code",
      "metadata": {
        "id": "abac3515"
      },
      "source": [
        "ranfor['tfidf'] = RandomForestClassifier(n_estimators=50).fit(x_train_arr1, y_train)\n",
        "time.sleep(5)\n",
        "ranfor_scores['test_tfidf'] = ranfor['tfidf'].score(x_test_arr1, y_valid)\n",
        "ranfor_scores['train_tfidf'] = ranfor['tfidf'].score(x_train_arr1, y_train)"
      ],
      "id": "abac3515",
      "execution_count": null,
      "outputs": []
    },
    {
      "cell_type": "code",
      "metadata": {
        "id": "d50c243b",
        "colab": {
          "base_uri": "https://localhost:8080/"
        },
        "outputId": "e6545535-87bb-43a1-e7f4-93cc41b883b5"
      },
      "source": [
        "print(\"Train score with tokenizer :- \", ranfor_scores['train_tokenizer'])\n",
        "print(\"Test score with tokenizer :- \", ranfor_scores['test_tokenizer'])\n",
        "print(\"Train score with tfidf :- \", ranfor_scores['train_tfidf'])\n",
        "print(\"Test score with tfidf :- \", ranfor_scores['test_tfidf'])"
      ],
      "id": "d50c243b",
      "execution_count": null,
      "outputs": [
        {
          "output_type": "stream",
          "name": "stdout",
          "text": [
            "Train score with tokenizer :-  0.9889034845132744\n",
            "Test score with tokenizer :-  0.7746128318584071\n",
            "Train score with tfidf :-  0.9858268805309734\n",
            "Test score with tfidf :-  0.8676714601769911\n"
          ]
        }
      ]
    },
    {
      "cell_type": "code",
      "source": [
        "RandomForestClassifier().fit(x_train_arr1, y_train)"
      ],
      "metadata": {
        "colab": {
          "base_uri": "https://localhost:8080/"
        },
        "id": "Z14kM0XghbEA",
        "outputId": "4bd536b4-5fb4-497c-e85e-f3dcc1046bc4"
      },
      "id": "Z14kM0XghbEA",
      "execution_count": null,
      "outputs": [
        {
          "output_type": "execute_result",
          "data": {
            "text/plain": [
              "RandomForestClassifier()"
            ]
          },
          "metadata": {},
          "execution_count": 59
        }
      ]
    },
    {
      "cell_type": "markdown",
      "metadata": {
        "id": "d7fecb0a"
      },
      "source": [
        "## Using Deep Learning"
      ],
      "id": "d7fecb0a"
    },
    {
      "cell_type": "code",
      "source": [
        "v_model = {}"
      ],
      "metadata": {
        "id": "a1-n5Z24hOBs"
      },
      "id": "a1-n5Z24hOBs",
      "execution_count": null,
      "outputs": []
    },
    {
      "cell_type": "code",
      "metadata": {
        "colab": {
          "base_uri": "https://localhost:8080/"
        },
        "id": "efaf2002",
        "outputId": "f0bc1ab1-efe4-41bc-c9bf-9e8ea93cb250"
      },
      "source": [
        "v_model['tfidf'] = Sequential([\n",
        "    Dense(512, activation='relu', activity_regularizer=tf.keras.regularizers.l2(0.01), input_shape=(vocab_size,)),\n",
        "    Dropout(0.2),\n",
        "    BatchNormalization(),\n",
        "    Dense(64, activation='relu',activity_regularizer=tf.keras.regularizers.l2(0.01)),\n",
        "    Dropout(0.2),\n",
        "    BatchNormalization(),\n",
        "    Dense(1, activation='sigmoid')\n",
        "])\n",
        "\n",
        "lr = keras.optimizers.schedules.ExponentialDecay(initial_learning_rate=0.001, decay_steps=1e4, decay_rate=0.92)\n",
        "v_model['tfidf'].compile(optimizer=Adam(learning_rate=lr), metrics=['accuracy'], \n",
        "                         loss='binary_crossentropy')\n",
        "\n",
        "v_model['tfidf'].summary()"
      ],
      "id": "efaf2002",
      "execution_count": null,
      "outputs": [
        {
          "output_type": "stream",
          "name": "stdout",
          "text": [
            "Model: \"sequential_7\"\n",
            "_________________________________________________________________\n",
            " Layer (type)                Output Shape              Param #   \n",
            "=================================================================\n",
            " dense_22 (Dense)            (None, 512)               2226176   \n",
            "                                                                 \n",
            " dropout_15 (Dropout)        (None, 512)               0         \n",
            "                                                                 \n",
            " batch_normalization_14 (Bat  (None, 512)              2048      \n",
            " chNormalization)                                                \n",
            "                                                                 \n",
            " dense_23 (Dense)            (None, 64)                32832     \n",
            "                                                                 \n",
            " dropout_16 (Dropout)        (None, 64)                0         \n",
            "                                                                 \n",
            " batch_normalization_15 (Bat  (None, 64)               256       \n",
            " chNormalization)                                                \n",
            "                                                                 \n",
            " dense_24 (Dense)            (None, 1)                 65        \n",
            "                                                                 \n",
            "=================================================================\n",
            "Total params: 2,261,377\n",
            "Trainable params: 2,260,225\n",
            "Non-trainable params: 1,152\n",
            "_________________________________________________________________\n"
          ]
        }
      ]
    },
    {
      "cell_type": "code",
      "metadata": {
        "colab": {
          "base_uri": "https://localhost:8080/"
        },
        "id": "6b77f482",
        "scrolled": false,
        "outputId": "26e26398-e801-43c4-e5c9-366c74cc63fc"
      },
      "source": [
        "v_model['tfidf'].fit(x_train_arr1, y_train, batch_size=256, epochs=10, validation_data=(x_test_arr1, y_valid))"
      ],
      "id": "6b77f482",
      "execution_count": null,
      "outputs": [
        {
          "output_type": "stream",
          "name": "stdout",
          "text": [
            "Epoch 1/10\n",
            "113/113 [==============================] - 9s 75ms/step - loss: 0.4636 - accuracy: 0.8315 - val_loss: 0.6789 - val_accuracy: 0.6222\n",
            "Epoch 2/10\n",
            "113/113 [==============================] - 8s 68ms/step - loss: 0.3616 - accuracy: 0.8729 - val_loss: 0.6686 - val_accuracy: 0.6222\n",
            "Epoch 3/10\n",
            "113/113 [==============================] - 8s 67ms/step - loss: 0.3181 - accuracy: 0.8896 - val_loss: 0.6405 - val_accuracy: 0.7259\n",
            "Epoch 4/10\n",
            "113/113 [==============================] - 8s 67ms/step - loss: 0.2885 - accuracy: 0.9028 - val_loss: 0.4103 - val_accuracy: 0.8692\n",
            "Epoch 5/10\n",
            "113/113 [==============================] - 8s 67ms/step - loss: 0.2499 - accuracy: 0.9168 - val_loss: 0.3638 - val_accuracy: 0.8601\n",
            "Epoch 6/10\n",
            "113/113 [==============================] - 8s 67ms/step - loss: 0.2251 - accuracy: 0.9269 - val_loss: 0.3840 - val_accuracy: 0.8562\n",
            "Epoch 7/10\n",
            "113/113 [==============================] - 7s 66ms/step - loss: 0.2109 - accuracy: 0.9327 - val_loss: 0.4031 - val_accuracy: 0.8608\n",
            "Epoch 8/10\n",
            "113/113 [==============================] - 8s 67ms/step - loss: 0.1993 - accuracy: 0.9365 - val_loss: 0.4370 - val_accuracy: 0.8684\n",
            "Epoch 9/10\n",
            "113/113 [==============================] - 8s 67ms/step - loss: 0.1923 - accuracy: 0.9410 - val_loss: 0.6654 - val_accuracy: 0.8702\n",
            "Epoch 10/10\n",
            "113/113 [==============================] - 8s 68ms/step - loss: 0.1790 - accuracy: 0.9450 - val_loss: 0.5730 - val_accuracy: 0.8649\n"
          ]
        },
        {
          "output_type": "execute_result",
          "data": {
            "text/plain": [
              "<keras.callbacks.History at 0x7f5b093f1990>"
            ]
          },
          "metadata": {},
          "execution_count": 146
        }
      ]
    },
    {
      "cell_type": "code",
      "source": [
        "vocab_size"
      ],
      "metadata": {
        "colab": {
          "base_uri": "https://localhost:8080/"
        },
        "id": "zDS_kyUwnTnV",
        "outputId": "6e6696bd-710e-4cea-b254-56e93d2d6799"
      },
      "id": "zDS_kyUwnTnV",
      "execution_count": null,
      "outputs": [
        {
          "output_type": "execute_result",
          "data": {
            "text/plain": [
              "4347"
            ]
          },
          "metadata": {},
          "execution_count": 148
        }
      ]
    },
    {
      "cell_type": "code",
      "metadata": {
        "colab": {
          "base_uri": "https://localhost:8080/"
        },
        "id": "70e780c5",
        "outputId": "39102b66-4b98-4f0b-9cc2-d54aaea899b0"
      },
      "source": [
        "embed_size = 128\n",
        "v_model['tokenizer'] = Sequential([\n",
        "    Embedding(vocab_size, embed_size, input_length=max_len),\n",
        "    GlobalMaxPooling1D(),\n",
        "    Dense(512, activation='relu', activity_regularizer=tf.keras.regularizers.l2(0.01)),\n",
        "    Dropout(0.2),\n",
        "    BatchNormalization(),\n",
        "    Dense(128, activation='relu',activity_regularizer=tf.keras.regularizers.l2(0.01)),\n",
        "    Dropout(0.2),\n",
        "    BatchNormalization(),\n",
        "    Dense(64, activation='relu',activity_regularizer=tf.keras.regularizers.l2(0.01)),\n",
        "    Dropout(0.2),\n",
        "    BatchNormalization(),\n",
        "    Dense(1, activation='sigmoid')\n",
        "])\n",
        "\n",
        "lr = keras.optimizers.schedules.ExponentialDecay(initial_learning_rate=0.001, decay_steps=1e4, decay_rate=0.90)\n",
        "v_model['tokenizer'].compile(optimizer=Adam(learning_rate=lr), metrics=['accuracy'], \n",
        "                         loss='binary_crossentropy')\n",
        "\n",
        "v_model['tokenizer'].summary()"
      ],
      "id": "70e780c5",
      "execution_count": null,
      "outputs": [
        {
          "output_type": "stream",
          "name": "stdout",
          "text": [
            "Model: \"sequential_10\"\n",
            "_________________________________________________________________\n",
            " Layer (type)                Output Shape              Param #   \n",
            "=================================================================\n",
            " embedding_3 (Embedding)     (None, 35, 128)           556416    \n",
            "                                                                 \n",
            " global_max_pooling1d_3 (Glo  (None, 128)              0         \n",
            " balMaxPooling1D)                                                \n",
            "                                                                 \n",
            " dense_32 (Dense)            (None, 512)               66048     \n",
            "                                                                 \n",
            " dropout_22 (Dropout)        (None, 512)               0         \n",
            "                                                                 \n",
            " batch_normalization_21 (Bat  (None, 512)              2048      \n",
            " chNormalization)                                                \n",
            "                                                                 \n",
            " dense_33 (Dense)            (None, 128)               65664     \n",
            "                                                                 \n",
            " dropout_23 (Dropout)        (None, 128)               0         \n",
            "                                                                 \n",
            " batch_normalization_22 (Bat  (None, 128)              512       \n",
            " chNormalization)                                                \n",
            "                                                                 \n",
            " dense_34 (Dense)            (None, 64)                8256      \n",
            "                                                                 \n",
            " dropout_24 (Dropout)        (None, 64)                0         \n",
            "                                                                 \n",
            " batch_normalization_23 (Bat  (None, 64)               256       \n",
            " chNormalization)                                                \n",
            "                                                                 \n",
            " dense_35 (Dense)            (None, 1)                 65        \n",
            "                                                                 \n",
            "=================================================================\n",
            "Total params: 699,265\n",
            "Trainable params: 697,857\n",
            "Non-trainable params: 1,408\n",
            "_________________________________________________________________\n"
          ]
        }
      ]
    },
    {
      "cell_type": "code",
      "source": [
        "v_model['tokenizer'].fit(x_train, y_train, batch_size=256, epochs=10, validation_data=(x_valid, y_valid))"
      ],
      "metadata": {
        "colab": {
          "base_uri": "https://localhost:8080/"
        },
        "id": "HmQJU3YYnE2_",
        "outputId": "f1051f32-cf17-46cd-d6c1-a6d1ecec4134"
      },
      "id": "HmQJU3YYnE2_",
      "execution_count": null,
      "outputs": [
        {
          "output_type": "stream",
          "name": "stdout",
          "text": [
            "Epoch 1/10\n",
            "113/113 [==============================] - 5s 33ms/step - loss: 0.6658 - accuracy: 0.7997 - val_loss: 0.6635 - val_accuracy: 0.6222\n",
            "Epoch 2/10\n",
            "113/113 [==============================] - 4s 31ms/step - loss: 0.3412 - accuracy: 0.8767 - val_loss: 0.6646 - val_accuracy: 0.6222\n",
            "Epoch 3/10\n",
            "113/113 [==============================] - 4s 32ms/step - loss: 0.2859 - accuracy: 0.8983 - val_loss: 0.6370 - val_accuracy: 0.6222\n",
            "Epoch 4/10\n",
            "113/113 [==============================] - 3s 30ms/step - loss: 0.2485 - accuracy: 0.9108 - val_loss: 0.5488 - val_accuracy: 0.6224\n",
            "Epoch 5/10\n",
            "113/113 [==============================] - 3s 30ms/step - loss: 0.2233 - accuracy: 0.9251 - val_loss: 0.3747 - val_accuracy: 0.8473\n",
            "Epoch 6/10\n",
            "113/113 [==============================] - 3s 31ms/step - loss: 0.2017 - accuracy: 0.9338 - val_loss: 0.4293 - val_accuracy: 0.8277\n",
            "Epoch 7/10\n",
            "113/113 [==============================] - 3s 31ms/step - loss: 0.1829 - accuracy: 0.9420 - val_loss: 0.3884 - val_accuracy: 0.8464\n",
            "Epoch 8/10\n",
            "113/113 [==============================] - 3s 31ms/step - loss: 0.1734 - accuracy: 0.9439 - val_loss: 0.3690 - val_accuracy: 0.8646\n",
            "Epoch 9/10\n",
            "113/113 [==============================] - 3s 31ms/step - loss: 0.1646 - accuracy: 0.9473 - val_loss: 0.3811 - val_accuracy: 0.8660\n",
            "Epoch 10/10\n",
            "113/113 [==============================] - 3s 31ms/step - loss: 0.1521 - accuracy: 0.9523 - val_loss: 0.3873 - val_accuracy: 0.8613\n"
          ]
        },
        {
          "output_type": "execute_result",
          "data": {
            "text/plain": [
              "<keras.callbacks.History at 0x7f5b08a3d650>"
            ]
          },
          "metadata": {},
          "execution_count": 154
        }
      ]
    },
    {
      "cell_type": "code",
      "metadata": {
        "id": "5Io0GafNgXHU"
      },
      "source": [],
      "id": "5Io0GafNgXHU",
      "execution_count": null,
      "outputs": []
    }
  ]
}